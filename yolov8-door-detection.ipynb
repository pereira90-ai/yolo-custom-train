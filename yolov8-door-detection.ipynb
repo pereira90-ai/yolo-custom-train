{
 "metadata": {
  "kernelspec": {
   "language": "python",
   "display_name": "Python 3",
   "name": "python3"
  },
  "language_info": {
   "name": "python",
   "version": "3.10.12",
   "mimetype": "text/x-python",
   "codemirror_mode": {
    "name": "ipython",
    "version": 3
   },
   "pygments_lexer": "ipython3",
   "nbconvert_exporter": "python",
   "file_extension": ".py"
  }
 },
 "nbformat_minor": 4,
 "nbformat": 4,
 "cells": [
  {
   "cell_type": "code",
   "source": [
    "# This Python 3 environment comes with many helpful analytics libraries installed\n",
    "# It is defined by the kaggle/python Docker image: https://github.com/kaggle/docker-python\n",
    "# For example, here's several helpful packages to load\n",
    "\n",
    "import numpy as np # linear algebra\n",
    "import pandas as pd # data processing, CSV file I/O (e.g. pd.read_csv)\n",
    "\n",
    "# Input data files are available in the read-only \"../input/\" directory\n",
    "# For example, running this (by clicking run or pressing Shift+Enter) will list all files under the input directory\n",
    "x=0\n",
    "import os\n",
    "for dirname, _, filenames in os.walk('/kaggle/input'):\n",
    "    for filename in filenames:\n",
    "        x=1\n",
    "#         print(os.path.join(dirname, filename))\n",
    "\n",
    "# You can write up to 20GB to the current directory (/kaggle/working/) that gets preserved as output when you create a version using \"Save & Run All\" \n",
    "# You can also write temporary files to /kaggle/temp/, but they won't be saved outside of the current session"
   ],
   "metadata": {
    "_uuid": "8f2839f25d086af736a60e9eeb907d3b93b6e0e5",
    "_cell_guid": "b1076dfc-b9ad-4769-8c92-a6c4dae69d19",
    "_kg_hide-output": true,
    "execution": {
     "iopub.status.busy": "2023-08-28T14:39:26.650176Z",
     "iopub.execute_input": "2023-08-28T14:39:26.650515Z",
     "iopub.status.idle": "2023-08-28T14:39:27.113134Z",
     "shell.execute_reply.started": "2023-08-28T14:39:26.650485Z",
     "shell.execute_reply": "2023-08-28T14:39:27.111975Z"
    },
    "trusted": true,
    "ExecuteTime": {
     "end_time": "2024-10-22T13:21:28.602115900Z",
     "start_time": "2024-10-22T13:21:27.958859500Z"
    }
   },
   "execution_count": 3,
   "outputs": []
  },
  {
   "cell_type": "code",
   "source": [
    "!pip install ultralytics"
   ],
   "metadata": {
    "execution": {
     "iopub.status.busy": "2023-08-28T14:39:27.114972Z",
     "iopub.execute_input": "2023-08-28T14:39:27.115615Z",
     "iopub.status.idle": "2023-08-28T14:39:42.625733Z",
     "shell.execute_reply.started": "2023-08-28T14:39:27.115579Z",
     "shell.execute_reply": "2023-08-28T14:39:42.624584Z"
    },
    "scrolled": true,
    "trusted": true,
    "ExecuteTime": {
     "end_time": "2024-10-22T13:20:49.854666800Z",
     "start_time": "2024-10-22T13:20:47.808233300Z"
    }
   },
   "execution_count": 1,
   "outputs": [
    {
     "name": "stdout",
     "output_type": "stream",
     "text": [
      "Looking in indexes: https://pypi.org/simple, https://pypi.ngc.nvidia.com\n",
      "Requirement already satisfied: ultralytics in c:\\users\\administrator\\anaconda3\\envs\\door\\lib\\site-packages (8.3.19)\n",
      "Requirement already satisfied: numpy>=1.23.0 in c:\\users\\administrator\\anaconda3\\envs\\door\\lib\\site-packages (from ultralytics) (1.23.5)\n",
      "Requirement already satisfied: matplotlib>=3.3.0 in c:\\users\\administrator\\anaconda3\\envs\\door\\lib\\site-packages (from ultralytics) (3.9.2)\n",
      "Requirement already satisfied: opencv-python>=4.6.0 in c:\\users\\administrator\\anaconda3\\envs\\door\\lib\\site-packages (from ultralytics) (4.10.0.84)\n",
      "Requirement already satisfied: pillow>=7.1.2 in c:\\users\\administrator\\anaconda3\\envs\\door\\lib\\site-packages (from ultralytics) (11.0.0)\n",
      "Requirement already satisfied: pyyaml>=5.3.1 in c:\\users\\administrator\\anaconda3\\envs\\door\\lib\\site-packages (from ultralytics) (6.0.2)\n",
      "Requirement already satisfied: requests>=2.23.0 in c:\\users\\administrator\\anaconda3\\envs\\door\\lib\\site-packages (from ultralytics) (2.32.3)\n",
      "Requirement already satisfied: scipy>=1.4.1 in c:\\users\\administrator\\anaconda3\\envs\\door\\lib\\site-packages (from ultralytics) (1.13.1)\n",
      "Requirement already satisfied: torch>=1.8.0 in c:\\users\\administrator\\anaconda3\\envs\\door\\lib\\site-packages (from ultralytics) (2.5.0+cu118)\n",
      "Requirement already satisfied: torchvision>=0.9.0 in c:\\users\\administrator\\anaconda3\\envs\\door\\lib\\site-packages (from ultralytics) (0.20.0)\n",
      "Requirement already satisfied: tqdm>=4.64.0 in c:\\users\\administrator\\anaconda3\\envs\\door\\lib\\site-packages (from ultralytics) (4.66.5)\n",
      "Requirement already satisfied: psutil in c:\\users\\administrator\\anaconda3\\envs\\door\\lib\\site-packages (from ultralytics) (5.9.0)\n",
      "Requirement already satisfied: py-cpuinfo in c:\\users\\administrator\\anaconda3\\envs\\door\\lib\\site-packages (from ultralytics) (9.0.0)\n",
      "Requirement already satisfied: pandas>=1.1.4 in c:\\users\\administrator\\anaconda3\\envs\\door\\lib\\site-packages (from ultralytics) (2.2.3)\n",
      "Requirement already satisfied: seaborn>=0.11.0 in c:\\users\\administrator\\anaconda3\\envs\\door\\lib\\site-packages (from ultralytics) (0.13.2)\n",
      "Requirement already satisfied: ultralytics-thop>=2.0.0 in c:\\users\\administrator\\anaconda3\\envs\\door\\lib\\site-packages (from ultralytics) (2.0.9)\n",
      "Requirement already satisfied: contourpy>=1.0.1 in c:\\users\\administrator\\anaconda3\\envs\\door\\lib\\site-packages (from matplotlib>=3.3.0->ultralytics) (1.3.0)\n",
      "Requirement already satisfied: cycler>=0.10 in c:\\users\\administrator\\anaconda3\\envs\\door\\lib\\site-packages (from matplotlib>=3.3.0->ultralytics) (0.12.1)\n",
      "Requirement already satisfied: fonttools>=4.22.0 in c:\\users\\administrator\\anaconda3\\envs\\door\\lib\\site-packages (from matplotlib>=3.3.0->ultralytics) (4.54.1)\n",
      "Requirement already satisfied: kiwisolver>=1.3.1 in c:\\users\\administrator\\anaconda3\\envs\\door\\lib\\site-packages (from matplotlib>=3.3.0->ultralytics) (1.4.7)\n",
      "Requirement already satisfied: packaging>=20.0 in c:\\users\\administrator\\anaconda3\\envs\\door\\lib\\site-packages (from matplotlib>=3.3.0->ultralytics) (24.1)\n",
      "Requirement already satisfied: pyparsing>=2.3.1 in c:\\users\\administrator\\anaconda3\\envs\\door\\lib\\site-packages (from matplotlib>=3.3.0->ultralytics) (3.2.0)\n",
      "Requirement already satisfied: python-dateutil>=2.7 in c:\\users\\administrator\\anaconda3\\envs\\door\\lib\\site-packages (from matplotlib>=3.3.0->ultralytics) (2.9.0.post0)\n",
      "Requirement already satisfied: importlib-resources>=3.2.0 in c:\\users\\administrator\\anaconda3\\envs\\door\\lib\\site-packages (from matplotlib>=3.3.0->ultralytics) (6.4.5)\n",
      "Requirement already satisfied: pytz>=2020.1 in c:\\users\\administrator\\anaconda3\\envs\\door\\lib\\site-packages (from pandas>=1.1.4->ultralytics) (2024.1)\n",
      "Requirement already satisfied: tzdata>=2022.7 in c:\\users\\administrator\\anaconda3\\envs\\door\\lib\\site-packages (from pandas>=1.1.4->ultralytics) (2024.2)\n",
      "Requirement already satisfied: charset-normalizer<4,>=2 in c:\\users\\administrator\\anaconda3\\envs\\door\\lib\\site-packages (from requests>=2.23.0->ultralytics) (3.3.2)\n",
      "Requirement already satisfied: idna<4,>=2.5 in c:\\users\\administrator\\anaconda3\\envs\\door\\lib\\site-packages (from requests>=2.23.0->ultralytics) (3.7)\n",
      "Requirement already satisfied: urllib3<3,>=1.21.1 in c:\\users\\administrator\\anaconda3\\envs\\door\\lib\\site-packages (from requests>=2.23.0->ultralytics) (2.2.3)\n",
      "Requirement already satisfied: certifi>=2017.4.17 in c:\\users\\administrator\\anaconda3\\envs\\door\\lib\\site-packages (from requests>=2.23.0->ultralytics) (2024.8.30)\n",
      "Requirement already satisfied: filelock in c:\\users\\administrator\\anaconda3\\envs\\door\\lib\\site-packages (from torch>=1.8.0->ultralytics) (3.16.1)\n",
      "Requirement already satisfied: typing-extensions>=4.8.0 in c:\\users\\administrator\\anaconda3\\envs\\door\\lib\\site-packages (from torch>=1.8.0->ultralytics) (4.11.0)\n",
      "Requirement already satisfied: networkx in c:\\users\\administrator\\anaconda3\\envs\\door\\lib\\site-packages (from torch>=1.8.0->ultralytics) (3.2.1)\n",
      "Requirement already satisfied: jinja2 in c:\\users\\administrator\\anaconda3\\envs\\door\\lib\\site-packages (from torch>=1.8.0->ultralytics) (3.1.4)\n",
      "Requirement already satisfied: fsspec in c:\\users\\administrator\\anaconda3\\envs\\door\\lib\\site-packages (from torch>=1.8.0->ultralytics) (2024.10.0)\n",
      "Requirement already satisfied: sympy==1.13.1 in c:\\users\\administrator\\anaconda3\\envs\\door\\lib\\site-packages (from torch>=1.8.0->ultralytics) (1.13.1)\n",
      "Requirement already satisfied: mpmath<1.4,>=1.1.0 in c:\\users\\administrator\\anaconda3\\envs\\door\\lib\\site-packages (from sympy==1.13.1->torch>=1.8.0->ultralytics) (1.3.0)\n",
      "Requirement already satisfied: colorama in c:\\users\\administrator\\anaconda3\\envs\\door\\lib\\site-packages (from tqdm>=4.64.0->ultralytics) (0.4.6)\n",
      "Requirement already satisfied: zipp>=3.1.0 in c:\\users\\administrator\\anaconda3\\envs\\door\\lib\\site-packages (from importlib-resources>=3.2.0->matplotlib>=3.3.0->ultralytics) (3.20.2)\n",
      "Requirement already satisfied: six>=1.5 in c:\\users\\administrator\\anaconda3\\envs\\door\\lib\\site-packages (from python-dateutil>=2.7->matplotlib>=3.3.0->ultralytics) (1.16.0)\n",
      "Requirement already satisfied: MarkupSafe>=2.0 in c:\\users\\administrator\\anaconda3\\envs\\door\\lib\\site-packages (from jinja2->torch>=1.8.0->ultralytics) (2.1.3)\n"
     ]
    }
   ]
  },
  {
   "cell_type": "code",
   "source": [
    "!wandb disabled"
   ],
   "metadata": {
    "execution": {
     "iopub.status.busy": "2023-08-28T14:39:42.628159Z",
     "iopub.execute_input": "2023-08-28T14:39:42.628534Z",
     "iopub.status.idle": "2023-08-28T14:39:45.409163Z",
     "shell.execute_reply.started": "2023-08-28T14:39:42.628495Z",
     "shell.execute_reply": "2023-08-28T14:39:45.407937Z"
    },
    "trusted": true,
    "ExecuteTime": {
     "end_time": "2024-10-22T13:21:51.795084200Z",
     "start_time": "2024-10-22T13:21:51.763277400Z"
    }
   },
   "execution_count": 4,
   "outputs": [
    {
     "name": "stderr",
     "output_type": "stream",
     "text": [
      "'wandb' is not recognized as an internal or external command,\n",
      "operable program or batch file.\n"
     ]
    }
   ]
  },
  {
   "cell_type": "code",
   "source": [
    "!cd '/kaggle/input/doors-detection'"
   ],
   "metadata": {
    "execution": {
     "iopub.status.busy": "2023-08-28T14:39:45.412152Z",
     "iopub.execute_input": "2023-08-28T14:39:45.412529Z",
     "iopub.status.idle": "2023-08-28T14:39:46.351194Z",
     "shell.execute_reply.started": "2023-08-28T14:39:45.412490Z",
     "shell.execute_reply": "2023-08-28T14:39:46.349950Z"
    },
    "trusted": true,
    "ExecuteTime": {
     "end_time": "2024-10-22T13:22:07.385845900Z",
     "start_time": "2024-10-22T13:22:07.337850Z"
    }
   },
   "execution_count": 5,
   "outputs": [
    {
     "name": "stderr",
     "output_type": "stream",
     "text": [
      "The system cannot find the path specified.\n"
     ]
    }
   ]
  },
  {
   "cell_type": "code",
   "source": [
    "yaml_content=f'''\n",
    "train: doors-detection/train/images\n",
    "val:  doors-detection/val/images\n",
    "test: doors-detection/val/images\n",
    "nc: 1\n",
    "names: ['door']\n",
    "'''"
   ],
   "metadata": {
    "execution": {
     "iopub.status.busy": "2023-08-28T14:39:54.745733Z",
     "iopub.execute_input": "2023-08-28T14:39:54.750325Z",
     "iopub.status.idle": "2023-08-28T14:39:54.757950Z",
     "shell.execute_reply.started": "2023-08-28T14:39:54.750280Z",
     "shell.execute_reply": "2023-08-28T14:39:54.756198Z"
    },
    "trusted": true,
    "ExecuteTime": {
     "end_time": "2024-10-22T13:24:57.635490500Z",
     "start_time": "2024-10-22T13:24:57.618822Z"
    }
   },
   "execution_count": 6,
   "outputs": []
  },
  {
   "cell_type": "code",
   "source": [
    "from pathlib import Path\n",
    "\n",
    "with Path('data.yaml').open('w') as f :\n",
    "  f.write(yaml_content)"
   ],
   "metadata": {
    "execution": {
     "iopub.status.busy": "2023-08-28T14:39:59.360983Z",
     "iopub.execute_input": "2023-08-28T14:39:59.361465Z",
     "iopub.status.idle": "2023-08-28T14:39:59.367636Z",
     "shell.execute_reply.started": "2023-08-28T14:39:59.361419Z",
     "shell.execute_reply": "2023-08-28T14:39:59.366539Z"
    },
    "trusted": true,
    "ExecuteTime": {
     "end_time": "2024-10-22T13:25:04.726053900Z",
     "start_time": "2024-10-22T13:25:04.704287300Z"
    }
   },
   "execution_count": 7,
   "outputs": []
  },
  {
   "cell_type": "code",
   "source": [
    "import torch\n",
    "from ultralytics import YOLO\n",
    "\n",
    "model = YOLO(\"yolov8s.pt\")  # load model (from pretrained)"
   ],
   "metadata": {
    "execution": {
     "iopub.status.busy": "2023-08-28T14:40:01.842120Z",
     "iopub.execute_input": "2023-08-28T14:40:01.842552Z",
     "iopub.status.idle": "2023-08-28T14:40:06.370096Z",
     "shell.execute_reply.started": "2023-08-28T14:40:01.842515Z",
     "shell.execute_reply": "2023-08-28T14:40:06.369013Z"
    },
    "trusted": true,
    "ExecuteTime": {
     "end_time": "2024-10-22T13:35:21.245975900Z",
     "start_time": "2024-10-22T13:35:06.873945500Z"
    }
   },
   "execution_count": 1,
   "outputs": [
    {
     "name": "stdout",
     "output_type": "stream",
     "text": [
      "WARNING  Python>=3.10 is required, but Python==3.9.20 is currently installed \n"
     ]
    }
   ]
  },
  {
   "cell_type": "code",
   "source": [
    "#200\n",
    "model.train(data='data.yaml', epochs=50,imgsz=1280,batch=8)"
   ],
   "metadata": {
    "execution": {
     "iopub.status.busy": "2023-08-28T14:40:12.296210Z",
     "iopub.execute_input": "2023-08-28T14:40:12.296781Z"
    },
    "scrolled": true,
    "trusted": true,
    "ExecuteTime": {
     "end_time": "2024-10-22T13:58:38.652323400Z",
     "start_time": "2024-10-22T13:35:26.771882100Z"
    }
   },
   "execution_count": 2,
   "outputs": [
    {
     "name": "stdout",
     "output_type": "stream",
     "text": [
      "Ultralytics 8.3.19  Python-3.9.20 torch-2.5.0 CUDA:0 (Tesla T4, 15191MiB)\n",
      "\u001B[34m\u001B[1mengine\\trainer: \u001B[0mtask=detect, mode=train, model=yolov8s.pt, data=data.yaml, epochs=50, time=None, patience=100, batch=8, imgsz=1280, save=True, save_period=-1, cache=False, device=None, workers=8, project=None, name=train3, exist_ok=False, pretrained=True, optimizer=auto, verbose=True, seed=0, deterministic=True, single_cls=False, rect=False, cos_lr=False, close_mosaic=10, resume=False, amp=True, fraction=1.0, profile=False, freeze=None, multi_scale=False, overlap_mask=True, mask_ratio=4, dropout=0.0, val=True, split=val, save_json=False, save_hybrid=False, conf=None, iou=0.7, max_det=300, half=False, dnn=False, plots=True, source=None, vid_stride=1, stream_buffer=False, visualize=False, augment=False, agnostic_nms=False, classes=None, retina_masks=False, embed=None, show=False, save_frames=False, save_txt=False, save_conf=False, save_crop=False, show_labels=True, show_conf=True, show_boxes=True, line_width=None, format=torchscript, keras=False, optimize=False, int8=False, dynamic=False, simplify=True, opset=None, workspace=4, nms=False, lr0=0.01, lrf=0.01, momentum=0.937, weight_decay=0.0005, warmup_epochs=3.0, warmup_momentum=0.8, warmup_bias_lr=0.1, box=7.5, cls=0.5, dfl=1.5, pose=12.0, kobj=1.0, label_smoothing=0.0, nbs=64, hsv_h=0.015, hsv_s=0.7, hsv_v=0.4, degrees=0.0, translate=0.1, scale=0.5, shear=0.0, perspective=0.0, flipud=0.0, fliplr=0.5, bgr=0.0, mosaic=1.0, mixup=0.0, copy_paste=0.0, copy_paste_mode=flip, auto_augment=randaugment, erasing=0.4, crop_fraction=1.0, cfg=None, tracker=botsort.yaml, save_dir=runs\\detect\\train3\n",
      "Overriding model.yaml nc=80 with nc=1\n",
      "\n",
      "                   from  n    params  module                                       arguments                     \n",
      "  0                  -1  1       928  ultralytics.nn.modules.conv.Conv             [3, 32, 3, 2]                 \n",
      "  1                  -1  1     18560  ultralytics.nn.modules.conv.Conv             [32, 64, 3, 2]                \n",
      "  2                  -1  1     29056  ultralytics.nn.modules.block.C2f             [64, 64, 1, True]             \n",
      "  3                  -1  1     73984  ultralytics.nn.modules.conv.Conv             [64, 128, 3, 2]               \n",
      "  4                  -1  2    197632  ultralytics.nn.modules.block.C2f             [128, 128, 2, True]           \n",
      "  5                  -1  1    295424  ultralytics.nn.modules.conv.Conv             [128, 256, 3, 2]              \n",
      "  6                  -1  2    788480  ultralytics.nn.modules.block.C2f             [256, 256, 2, True]           \n",
      "  7                  -1  1   1180672  ultralytics.nn.modules.conv.Conv             [256, 512, 3, 2]              \n",
      "  8                  -1  1   1838080  ultralytics.nn.modules.block.C2f             [512, 512, 1, True]           \n",
      "  9                  -1  1    656896  ultralytics.nn.modules.block.SPPF            [512, 512, 5]                 \n",
      " 10                  -1  1         0  torch.nn.modules.upsampling.Upsample         [None, 2, 'nearest']          \n",
      " 11             [-1, 6]  1         0  ultralytics.nn.modules.conv.Concat           [1]                           \n",
      " 12                  -1  1    591360  ultralytics.nn.modules.block.C2f             [768, 256, 1]                 \n",
      " 13                  -1  1         0  torch.nn.modules.upsampling.Upsample         [None, 2, 'nearest']          \n",
      " 14             [-1, 4]  1         0  ultralytics.nn.modules.conv.Concat           [1]                           \n",
      " 15                  -1  1    148224  ultralytics.nn.modules.block.C2f             [384, 128, 1]                 \n",
      " 16                  -1  1    147712  ultralytics.nn.modules.conv.Conv             [128, 128, 3, 2]              \n",
      " 17            [-1, 12]  1         0  ultralytics.nn.modules.conv.Concat           [1]                           \n",
      " 18                  -1  1    493056  ultralytics.nn.modules.block.C2f             [384, 256, 1]                 \n",
      " 19                  -1  1    590336  ultralytics.nn.modules.conv.Conv             [256, 256, 3, 2]              \n",
      " 20             [-1, 9]  1         0  ultralytics.nn.modules.conv.Concat           [1]                           \n",
      " 21                  -1  1   1969152  ultralytics.nn.modules.block.C2f             [768, 512, 1]                 \n",
      " 22        [15, 18, 21]  1   2116435  ultralytics.nn.modules.head.Detect           [1, [128, 256, 512]]          \n",
      "Model summary: 225 layers, 11,135,987 parameters, 11,135,971 gradients, 28.6 GFLOPs\n",
      "Transferred 349/355 items from pretrained weights\n",
      "\u001B[34m\u001B[1mTensorBoard: \u001B[0mStart with 'tensorboard --logdir runs\\detect\\train3', view at http://localhost:6006/\n",
      "Freezing layer 'model.22.dfl.conv.weight'\n",
      "\u001B[34m\u001B[1mAMP: \u001B[0mrunning Automatic Mixed Precision (AMP) checks...\n",
      "\u001B[34m\u001B[1mAMP: \u001B[0mchecks passed \n"
     ]
    },
    {
     "name": "stderr",
     "output_type": "stream",
     "text": [
      "\u001B[34m\u001B[1mtrain: \u001B[0mScanning C:\\Dev\\YOLOv8-Door-detection-for-visually-impaired-people\\datasets\\doors-detection\\train\\labels... 429 images, 159 backgrounds, 0 corrupt: 100%|██████████| 429/429 [00:00<00:00, 1380.92it/s]"
     ]
    },
    {
     "name": "stdout",
     "output_type": "stream",
     "text": [
      "\u001B[34m\u001B[1mtrain: \u001B[0mNew cache created: C:\\Dev\\YOLOv8-Door-detection-for-visually-impaired-people\\datasets\\doors-detection\\train\\labels.cache\n"
     ]
    },
    {
     "name": "stderr",
     "output_type": "stream",
     "text": [
      "\n",
      "\u001B[34m\u001B[1mval: \u001B[0mScanning C:\\Dev\\YOLOv8-Door-detection-for-visually-impaired-people\\datasets\\doors-detection\\val\\labels... 48 images, 13 backgrounds, 0 corrupt: 100%|██████████| 48/48 [00:00<00:00, 534.53it/s]"
     ]
    },
    {
     "name": "stdout",
     "output_type": "stream",
     "text": [
      "\u001B[34m\u001B[1mval: \u001B[0mNew cache created: C:\\Dev\\YOLOv8-Door-detection-for-visually-impaired-people\\datasets\\doors-detection\\val\\labels.cache\n"
     ]
    },
    {
     "name": "stderr",
     "output_type": "stream",
     "text": [
      "\n"
     ]
    },
    {
     "name": "stdout",
     "output_type": "stream",
     "text": [
      "Plotting labels to runs\\detect\\train3\\labels.jpg... \n",
      "\u001B[34m\u001B[1moptimizer:\u001B[0m 'optimizer=auto' found, ignoring 'lr0=0.01' and 'momentum=0.937' and determining best 'optimizer', 'lr0' and 'momentum' automatically... \n",
      "\u001B[34m\u001B[1moptimizer:\u001B[0m AdamW(lr=0.002, momentum=0.9) with parameter groups 57 weight(decay=0.0), 64 weight(decay=0.0005), 63 bias(decay=0.0)\n",
      "\u001B[34m\u001B[1mTensorBoard: \u001B[0mmodel graph visualization added \n",
      "Image sizes 1280 train, 1280 val\n",
      "Using 8 dataloader workers\n",
      "Logging results to \u001B[1mruns\\detect\\train3\u001B[0m\n",
      "Starting training for 50 epochs...\n",
      "\n",
      "      Epoch    GPU_mem   box_loss   cls_loss   dfl_loss  Instances       Size\n"
     ]
    },
    {
     "name": "stderr",
     "output_type": "stream",
     "text": [
      "       1/50      7.76G      1.513      9.236      1.675         14       1280: 100%|██████████| 54/54 [00:25<00:00,  2.14it/s]\n",
      "                 Class     Images  Instances      Box(P          R      mAP50  mAP50-95): 100%|██████████| 3/3 [00:01<00:00,  1.92it/s]"
     ]
    },
    {
     "name": "stdout",
     "output_type": "stream",
     "text": [
      "                   all         48         51      0.238      0.412      0.238      0.122\n"
     ]
    },
    {
     "name": "stderr",
     "output_type": "stream",
     "text": [
      "\n"
     ]
    },
    {
     "name": "stdout",
     "output_type": "stream",
     "text": [
      "\n",
      "      Epoch    GPU_mem   box_loss   cls_loss   dfl_loss  Instances       Size\n"
     ]
    },
    {
     "name": "stderr",
     "output_type": "stream",
     "text": [
      "       2/50      7.29G      1.572      2.811       1.78          6       1280: 100%|██████████| 54/54 [00:24<00:00,  2.23it/s]\n",
      "                 Class     Images  Instances      Box(P          R      mAP50  mAP50-95): 100%|██████████| 3/3 [00:00<00:00,  3.06it/s]"
     ]
    },
    {
     "name": "stdout",
     "output_type": "stream",
     "text": [
      "                   all         48         51     0.0168      0.235      0.028    0.00703\n"
     ]
    },
    {
     "name": "stderr",
     "output_type": "stream",
     "text": [
      "\n"
     ]
    },
    {
     "name": "stdout",
     "output_type": "stream",
     "text": [
      "\n",
      "      Epoch    GPU_mem   box_loss   cls_loss   dfl_loss  Instances       Size\n"
     ]
    },
    {
     "name": "stderr",
     "output_type": "stream",
     "text": [
      "       3/50      7.25G      1.755      2.531      1.809         12       1280: 100%|██████████| 54/54 [00:23<00:00,  2.26it/s]\n",
      "                 Class     Images  Instances      Box(P          R      mAP50  mAP50-95): 100%|██████████| 3/3 [00:00<00:00,  3.04it/s]"
     ]
    },
    {
     "name": "stdout",
     "output_type": "stream",
     "text": [
      "                   all         48         51      0.148      0.392      0.124     0.0484\n"
     ]
    },
    {
     "name": "stderr",
     "output_type": "stream",
     "text": [
      "\n"
     ]
    },
    {
     "name": "stdout",
     "output_type": "stream",
     "text": [
      "\n",
      "      Epoch    GPU_mem   box_loss   cls_loss   dfl_loss  Instances       Size\n"
     ]
    },
    {
     "name": "stderr",
     "output_type": "stream",
     "text": [
      "       4/50      7.27G      1.713      2.302       1.77         10       1280: 100%|██████████| 54/54 [00:23<00:00,  2.28it/s]\n",
      "                 Class     Images  Instances      Box(P          R      mAP50  mAP50-95): 100%|██████████| 3/3 [00:00<00:00,  3.10it/s]"
     ]
    },
    {
     "name": "stdout",
     "output_type": "stream",
     "text": [
      "                   all         48         51      0.157      0.157     0.0737     0.0388\n"
     ]
    },
    {
     "name": "stderr",
     "output_type": "stream",
     "text": [
      "\n"
     ]
    },
    {
     "name": "stdout",
     "output_type": "stream",
     "text": [
      "\n",
      "      Epoch    GPU_mem   box_loss   cls_loss   dfl_loss  Instances       Size\n"
     ]
    },
    {
     "name": "stderr",
     "output_type": "stream",
     "text": [
      "       5/50      7.27G      1.597      2.207      1.662          5       1280: 100%|██████████| 54/54 [00:23<00:00,  2.27it/s]\n",
      "                 Class     Images  Instances      Box(P          R      mAP50  mAP50-95): 100%|██████████| 3/3 [00:01<00:00,  2.98it/s]"
     ]
    },
    {
     "name": "stdout",
     "output_type": "stream",
     "text": [
      "                   all         48         51      0.236      0.373      0.205     0.0954\n"
     ]
    },
    {
     "name": "stderr",
     "output_type": "stream",
     "text": [
      "\n"
     ]
    },
    {
     "name": "stdout",
     "output_type": "stream",
     "text": [
      "\n",
      "      Epoch    GPU_mem   box_loss   cls_loss   dfl_loss  Instances       Size\n"
     ]
    },
    {
     "name": "stderr",
     "output_type": "stream",
     "text": [
      "       6/50      7.27G      1.555      2.119      1.682          9       1280: 100%|██████████| 54/54 [00:23<00:00,  2.29it/s]\n",
      "                 Class     Images  Instances      Box(P          R      mAP50  mAP50-95): 100%|██████████| 3/3 [00:00<00:00,  3.14it/s]"
     ]
    },
    {
     "name": "stdout",
     "output_type": "stream",
     "text": [
      "                   all         48         51       0.47      0.244      0.236      0.128\n"
     ]
    },
    {
     "name": "stderr",
     "output_type": "stream",
     "text": [
      "\n"
     ]
    },
    {
     "name": "stdout",
     "output_type": "stream",
     "text": [
      "\n",
      "      Epoch    GPU_mem   box_loss   cls_loss   dfl_loss  Instances       Size\n"
     ]
    },
    {
     "name": "stderr",
     "output_type": "stream",
     "text": [
      "       7/50      7.29G      1.512      1.993      1.652         14       1280: 100%|██████████| 54/54 [00:23<00:00,  2.28it/s]\n",
      "                 Class     Images  Instances      Box(P          R      mAP50  mAP50-95): 100%|██████████| 3/3 [00:00<00:00,  3.14it/s]"
     ]
    },
    {
     "name": "stdout",
     "output_type": "stream",
     "text": [
      "                   all         48         51      0.566      0.431      0.402      0.213\n"
     ]
    },
    {
     "name": "stderr",
     "output_type": "stream",
     "text": [
      "\n"
     ]
    },
    {
     "name": "stdout",
     "output_type": "stream",
     "text": [
      "\n",
      "      Epoch    GPU_mem   box_loss   cls_loss   dfl_loss  Instances       Size\n"
     ]
    },
    {
     "name": "stderr",
     "output_type": "stream",
     "text": [
      "       8/50      7.28G      1.521      2.031      1.633         10       1280: 100%|██████████| 54/54 [00:23<00:00,  2.29it/s]\n",
      "                 Class     Images  Instances      Box(P          R      mAP50  mAP50-95): 100%|██████████| 3/3 [00:00<00:00,  3.15it/s]"
     ]
    },
    {
     "name": "stdout",
     "output_type": "stream",
     "text": [
      "                   all         48         51      0.427       0.49      0.358      0.214\n"
     ]
    },
    {
     "name": "stderr",
     "output_type": "stream",
     "text": [
      "\n"
     ]
    },
    {
     "name": "stdout",
     "output_type": "stream",
     "text": [
      "\n",
      "      Epoch    GPU_mem   box_loss   cls_loss   dfl_loss  Instances       Size\n"
     ]
    },
    {
     "name": "stderr",
     "output_type": "stream",
     "text": [
      "       9/50      7.27G      1.458      1.928      1.616         12       1280: 100%|██████████| 54/54 [00:23<00:00,  2.28it/s]\n",
      "                 Class     Images  Instances      Box(P          R      mAP50  mAP50-95): 100%|██████████| 3/3 [00:00<00:00,  3.09it/s]"
     ]
    },
    {
     "name": "stdout",
     "output_type": "stream",
     "text": [
      "                   all         48         51      0.521      0.577      0.572       0.31\n"
     ]
    },
    {
     "name": "stderr",
     "output_type": "stream",
     "text": [
      "\n"
     ]
    },
    {
     "name": "stdout",
     "output_type": "stream",
     "text": [
      "\n",
      "      Epoch    GPU_mem   box_loss   cls_loss   dfl_loss  Instances       Size\n"
     ]
    },
    {
     "name": "stderr",
     "output_type": "stream",
     "text": [
      "      10/50      7.27G      1.422      1.931      1.613         13       1280: 100%|██████████| 54/54 [00:23<00:00,  2.28it/s]\n",
      "                 Class     Images  Instances      Box(P          R      mAP50  mAP50-95): 100%|██████████| 3/3 [00:00<00:00,  3.10it/s]"
     ]
    },
    {
     "name": "stdout",
     "output_type": "stream",
     "text": [
      "                   all         48         51      0.606      0.471      0.475      0.285\n"
     ]
    },
    {
     "name": "stderr",
     "output_type": "stream",
     "text": [
      "\n"
     ]
    },
    {
     "name": "stdout",
     "output_type": "stream",
     "text": [
      "\n",
      "      Epoch    GPU_mem   box_loss   cls_loss   dfl_loss  Instances       Size\n"
     ]
    },
    {
     "name": "stderr",
     "output_type": "stream",
     "text": [
      "      11/50       7.3G      1.391      1.779       1.55         15       1280: 100%|██████████| 54/54 [00:23<00:00,  2.29it/s]\n",
      "                 Class     Images  Instances      Box(P          R      mAP50  mAP50-95): 100%|██████████| 3/3 [00:00<00:00,  3.08it/s]"
     ]
    },
    {
     "name": "stdout",
     "output_type": "stream",
     "text": [
      "                   all         48         51      0.481      0.471      0.435      0.254\n"
     ]
    },
    {
     "name": "stderr",
     "output_type": "stream",
     "text": [
      "\n"
     ]
    },
    {
     "name": "stdout",
     "output_type": "stream",
     "text": [
      "\n",
      "      Epoch    GPU_mem   box_loss   cls_loss   dfl_loss  Instances       Size\n"
     ]
    },
    {
     "name": "stderr",
     "output_type": "stream",
     "text": [
      "      12/50      7.27G      1.329       1.76      1.518          9       1280: 100%|██████████| 54/54 [00:23<00:00,  2.29it/s]\n",
      "                 Class     Images  Instances      Box(P          R      mAP50  mAP50-95): 100%|██████████| 3/3 [00:00<00:00,  3.15it/s]"
     ]
    },
    {
     "name": "stdout",
     "output_type": "stream",
     "text": [
      "                   all         48         51      0.526       0.49      0.516      0.313\n"
     ]
    },
    {
     "name": "stderr",
     "output_type": "stream",
     "text": [
      "\n"
     ]
    },
    {
     "name": "stdout",
     "output_type": "stream",
     "text": [
      "\n",
      "      Epoch    GPU_mem   box_loss   cls_loss   dfl_loss  Instances       Size\n"
     ]
    },
    {
     "name": "stderr",
     "output_type": "stream",
     "text": [
      "      13/50      7.27G      1.405      1.822      1.588         12       1280: 100%|██████████| 54/54 [00:23<00:00,  2.29it/s]\n",
      "                 Class     Images  Instances      Box(P          R      mAP50  mAP50-95): 100%|██████████| 3/3 [00:00<00:00,  3.14it/s]"
     ]
    },
    {
     "name": "stdout",
     "output_type": "stream",
     "text": [
      "                   all         48         51      0.433      0.627      0.566      0.335\n"
     ]
    },
    {
     "name": "stderr",
     "output_type": "stream",
     "text": [
      "\n"
     ]
    },
    {
     "name": "stdout",
     "output_type": "stream",
     "text": [
      "\n",
      "      Epoch    GPU_mem   box_loss   cls_loss   dfl_loss  Instances       Size\n"
     ]
    },
    {
     "name": "stderr",
     "output_type": "stream",
     "text": [
      "      14/50      7.27G      1.301       1.73      1.494          6       1280: 100%|██████████| 54/54 [00:23<00:00,  2.28it/s]\n",
      "                 Class     Images  Instances      Box(P          R      mAP50  mAP50-95): 100%|██████████| 3/3 [00:00<00:00,  3.16it/s]"
     ]
    },
    {
     "name": "stdout",
     "output_type": "stream",
     "text": [
      "                   all         48         51      0.731      0.549      0.625      0.366\n"
     ]
    },
    {
     "name": "stderr",
     "output_type": "stream",
     "text": [
      "\n"
     ]
    },
    {
     "name": "stdout",
     "output_type": "stream",
     "text": [
      "\n",
      "      Epoch    GPU_mem   box_loss   cls_loss   dfl_loss  Instances       Size\n"
     ]
    },
    {
     "name": "stderr",
     "output_type": "stream",
     "text": [
      "      15/50       7.3G      1.242      1.646      1.408         10       1280: 100%|██████████| 54/54 [00:23<00:00,  2.29it/s]\n",
      "                 Class     Images  Instances      Box(P          R      mAP50  mAP50-95): 100%|██████████| 3/3 [00:00<00:00,  3.20it/s]"
     ]
    },
    {
     "name": "stdout",
     "output_type": "stream",
     "text": [
      "                   all         48         51      0.762      0.471      0.562      0.358\n"
     ]
    },
    {
     "name": "stderr",
     "output_type": "stream",
     "text": [
      "\n"
     ]
    },
    {
     "name": "stdout",
     "output_type": "stream",
     "text": [
      "\n",
      "      Epoch    GPU_mem   box_loss   cls_loss   dfl_loss  Instances       Size\n"
     ]
    },
    {
     "name": "stderr",
     "output_type": "stream",
     "text": [
      "      16/50      7.27G      1.311       1.66      1.465         13       1280: 100%|██████████| 54/54 [00:23<00:00,  2.29it/s]\n",
      "                 Class     Images  Instances      Box(P          R      mAP50  mAP50-95): 100%|██████████| 3/3 [00:00<00:00,  3.21it/s]"
     ]
    },
    {
     "name": "stdout",
     "output_type": "stream",
     "text": [
      "                   all         48         51      0.655      0.633      0.646      0.398\n"
     ]
    },
    {
     "name": "stderr",
     "output_type": "stream",
     "text": [
      "\n"
     ]
    },
    {
     "name": "stdout",
     "output_type": "stream",
     "text": [
      "\n",
      "      Epoch    GPU_mem   box_loss   cls_loss   dfl_loss  Instances       Size\n"
     ]
    },
    {
     "name": "stderr",
     "output_type": "stream",
     "text": [
      "      17/50      7.28G      1.181      1.554      1.398         13       1280: 100%|██████████| 54/54 [00:23<00:00,  2.29it/s]\n",
      "                 Class     Images  Instances      Box(P          R      mAP50  mAP50-95): 100%|██████████| 3/3 [00:00<00:00,  3.14it/s]"
     ]
    },
    {
     "name": "stdout",
     "output_type": "stream",
     "text": [
      "                   all         48         51      0.645      0.725      0.705      0.438\n"
     ]
    },
    {
     "name": "stderr",
     "output_type": "stream",
     "text": [
      "\n"
     ]
    },
    {
     "name": "stdout",
     "output_type": "stream",
     "text": [
      "\n",
      "      Epoch    GPU_mem   box_loss   cls_loss   dfl_loss  Instances       Size\n"
     ]
    },
    {
     "name": "stderr",
     "output_type": "stream",
     "text": [
      "      18/50      7.26G      1.211      1.603      1.431          4       1280: 100%|██████████| 54/54 [00:23<00:00,  2.28it/s]\n",
      "                 Class     Images  Instances      Box(P          R      mAP50  mAP50-95): 100%|██████████| 3/3 [00:00<00:00,  3.05it/s]"
     ]
    },
    {
     "name": "stdout",
     "output_type": "stream",
     "text": [
      "                   all         48         51      0.882      0.587      0.698      0.428\n"
     ]
    },
    {
     "name": "stderr",
     "output_type": "stream",
     "text": [
      "\n"
     ]
    },
    {
     "name": "stdout",
     "output_type": "stream",
     "text": [
      "\n",
      "      Epoch    GPU_mem   box_loss   cls_loss   dfl_loss  Instances       Size\n"
     ]
    },
    {
     "name": "stderr",
     "output_type": "stream",
     "text": [
      "      19/50       7.3G      1.227      1.478      1.437         11       1280: 100%|██████████| 54/54 [00:23<00:00,  2.29it/s]\n",
      "                 Class     Images  Instances      Box(P          R      mAP50  mAP50-95): 100%|██████████| 3/3 [00:00<00:00,  3.14it/s]"
     ]
    },
    {
     "name": "stdout",
     "output_type": "stream",
     "text": [
      "                   all         48         51      0.799      0.569      0.741      0.447\n"
     ]
    },
    {
     "name": "stderr",
     "output_type": "stream",
     "text": [
      "\n"
     ]
    },
    {
     "name": "stdout",
     "output_type": "stream",
     "text": [
      "\n",
      "      Epoch    GPU_mem   box_loss   cls_loss   dfl_loss  Instances       Size\n"
     ]
    },
    {
     "name": "stderr",
     "output_type": "stream",
     "text": [
      "      20/50      7.27G      1.164       1.43      1.355         17       1280: 100%|██████████| 54/54 [00:23<00:00,  2.29it/s]\n",
      "                 Class     Images  Instances      Box(P          R      mAP50  mAP50-95): 100%|██████████| 3/3 [00:00<00:00,  3.13it/s]"
     ]
    },
    {
     "name": "stdout",
     "output_type": "stream",
     "text": [
      "                   all         48         51       0.64      0.667      0.681      0.448\n"
     ]
    },
    {
     "name": "stderr",
     "output_type": "stream",
     "text": [
      "\n"
     ]
    },
    {
     "name": "stdout",
     "output_type": "stream",
     "text": [
      "\n",
      "      Epoch    GPU_mem   box_loss   cls_loss   dfl_loss  Instances       Size\n"
     ]
    },
    {
     "name": "stderr",
     "output_type": "stream",
     "text": [
      "      21/50      7.27G      1.184      1.507      1.379          8       1280: 100%|██████████| 54/54 [00:23<00:00,  2.29it/s]\n",
      "                 Class     Images  Instances      Box(P          R      mAP50  mAP50-95): 100%|██████████| 3/3 [00:00<00:00,  3.12it/s]"
     ]
    },
    {
     "name": "stdout",
     "output_type": "stream",
     "text": [
      "                   all         48         51      0.693      0.627      0.665      0.442\n"
     ]
    },
    {
     "name": "stderr",
     "output_type": "stream",
     "text": [
      "\n"
     ]
    },
    {
     "name": "stdout",
     "output_type": "stream",
     "text": [
      "\n",
      "      Epoch    GPU_mem   box_loss   cls_loss   dfl_loss  Instances       Size\n"
     ]
    },
    {
     "name": "stderr",
     "output_type": "stream",
     "text": [
      "      22/50      7.26G        1.2      1.474      1.392         11       1280: 100%|██████████| 54/54 [00:23<00:00,  2.29it/s]\n",
      "                 Class     Images  Instances      Box(P          R      mAP50  mAP50-95): 100%|██████████| 3/3 [00:00<00:00,  3.14it/s]"
     ]
    },
    {
     "name": "stdout",
     "output_type": "stream",
     "text": [
      "                   all         48         51       0.72      0.588      0.693      0.457\n"
     ]
    },
    {
     "name": "stderr",
     "output_type": "stream",
     "text": [
      "\n"
     ]
    },
    {
     "name": "stdout",
     "output_type": "stream",
     "text": [
      "\n",
      "      Epoch    GPU_mem   box_loss   cls_loss   dfl_loss  Instances       Size\n"
     ]
    },
    {
     "name": "stderr",
     "output_type": "stream",
     "text": [
      "      23/50      7.32G      1.093      1.302      1.305          6       1280: 100%|██████████| 54/54 [00:23<00:00,  2.29it/s]\n",
      "                 Class     Images  Instances      Box(P          R      mAP50  mAP50-95): 100%|██████████| 3/3 [00:00<00:00,  3.21it/s]"
     ]
    },
    {
     "name": "stdout",
     "output_type": "stream",
     "text": [
      "                   all         48         51      0.702      0.647      0.654      0.456\n"
     ]
    },
    {
     "name": "stderr",
     "output_type": "stream",
     "text": [
      "\n"
     ]
    },
    {
     "name": "stdout",
     "output_type": "stream",
     "text": [
      "\n",
      "      Epoch    GPU_mem   box_loss   cls_loss   dfl_loss  Instances       Size\n"
     ]
    },
    {
     "name": "stderr",
     "output_type": "stream",
     "text": [
      "      24/50      7.27G       1.16      1.404      1.381          9       1280: 100%|██████████| 54/54 [00:23<00:00,  2.29it/s]\n",
      "                 Class     Images  Instances      Box(P          R      mAP50  mAP50-95): 100%|██████████| 3/3 [00:00<00:00,  3.17it/s]"
     ]
    },
    {
     "name": "stdout",
     "output_type": "stream",
     "text": [
      "                   all         48         51      0.636      0.725      0.699      0.482\n"
     ]
    },
    {
     "name": "stderr",
     "output_type": "stream",
     "text": [
      "\n"
     ]
    },
    {
     "name": "stdout",
     "output_type": "stream",
     "text": [
      "\n",
      "      Epoch    GPU_mem   box_loss   cls_loss   dfl_loss  Instances       Size\n"
     ]
    },
    {
     "name": "stderr",
     "output_type": "stream",
     "text": [
      "      25/50      7.27G      1.126      1.412      1.345         12       1280: 100%|██████████| 54/54 [00:23<00:00,  2.29it/s]\n",
      "                 Class     Images  Instances      Box(P          R      mAP50  mAP50-95): 100%|██████████| 3/3 [00:00<00:00,  3.19it/s]"
     ]
    },
    {
     "name": "stdout",
     "output_type": "stream",
     "text": [
      "                   all         48         51      0.688      0.627      0.672      0.459\n"
     ]
    },
    {
     "name": "stderr",
     "output_type": "stream",
     "text": [
      "\n"
     ]
    },
    {
     "name": "stdout",
     "output_type": "stream",
     "text": [
      "\n",
      "      Epoch    GPU_mem   box_loss   cls_loss   dfl_loss  Instances       Size\n"
     ]
    },
    {
     "name": "stderr",
     "output_type": "stream",
     "text": [
      "      26/50      7.26G      1.079      1.374      1.317         11       1280: 100%|██████████| 54/54 [00:23<00:00,  2.29it/s]\n",
      "                 Class     Images  Instances      Box(P          R      mAP50  mAP50-95): 100%|██████████| 3/3 [00:00<00:00,  3.14it/s]"
     ]
    },
    {
     "name": "stdout",
     "output_type": "stream",
     "text": [
      "                   all         48         51      0.783      0.588      0.733      0.467\n"
     ]
    },
    {
     "name": "stderr",
     "output_type": "stream",
     "text": [
      "\n"
     ]
    },
    {
     "name": "stdout",
     "output_type": "stream",
     "text": [
      "\n",
      "      Epoch    GPU_mem   box_loss   cls_loss   dfl_loss  Instances       Size\n"
     ]
    },
    {
     "name": "stderr",
     "output_type": "stream",
     "text": [
      "      27/50      7.32G      1.067      1.272      1.315          9       1280: 100%|██████████| 54/54 [00:23<00:00,  2.30it/s]\n",
      "                 Class     Images  Instances      Box(P          R      mAP50  mAP50-95): 100%|██████████| 3/3 [00:00<00:00,  3.07it/s]"
     ]
    },
    {
     "name": "stdout",
     "output_type": "stream",
     "text": [
      "                   all         48         51      0.857      0.589       0.74      0.469\n"
     ]
    },
    {
     "name": "stderr",
     "output_type": "stream",
     "text": [
      "\n"
     ]
    },
    {
     "name": "stdout",
     "output_type": "stream",
     "text": [
      "\n",
      "      Epoch    GPU_mem   box_loss   cls_loss   dfl_loss  Instances       Size\n"
     ]
    },
    {
     "name": "stderr",
     "output_type": "stream",
     "text": [
      "      28/50      7.27G      1.086      1.316      1.315         11       1280: 100%|██████████| 54/54 [00:23<00:00,  2.29it/s]\n",
      "                 Class     Images  Instances      Box(P          R      mAP50  mAP50-95): 100%|██████████| 3/3 [00:00<00:00,  3.19it/s]"
     ]
    },
    {
     "name": "stdout",
     "output_type": "stream",
     "text": [
      "                   all         48         51      0.851      0.448      0.617      0.433\n"
     ]
    },
    {
     "name": "stderr",
     "output_type": "stream",
     "text": [
      "\n"
     ]
    },
    {
     "name": "stdout",
     "output_type": "stream",
     "text": [
      "\n",
      "      Epoch    GPU_mem   box_loss   cls_loss   dfl_loss  Instances       Size\n"
     ]
    },
    {
     "name": "stderr",
     "output_type": "stream",
     "text": [
      "      29/50      7.27G       1.08      1.281      1.303         16       1280: 100%|██████████| 54/54 [00:23<00:00,  2.29it/s]\n",
      "                 Class     Images  Instances      Box(P          R      mAP50  mAP50-95): 100%|██████████| 3/3 [00:00<00:00,  3.16it/s]"
     ]
    },
    {
     "name": "stdout",
     "output_type": "stream",
     "text": [
      "                   all         48         51      0.857      0.647      0.753      0.508\n"
     ]
    },
    {
     "name": "stderr",
     "output_type": "stream",
     "text": [
      "\n"
     ]
    },
    {
     "name": "stdout",
     "output_type": "stream",
     "text": [
      "\n",
      "      Epoch    GPU_mem   box_loss   cls_loss   dfl_loss  Instances       Size\n"
     ]
    },
    {
     "name": "stderr",
     "output_type": "stream",
     "text": [
      "      30/50      7.26G      1.043      1.226      1.281         13       1280: 100%|██████████| 54/54 [00:23<00:00,  2.29it/s]\n",
      "                 Class     Images  Instances      Box(P          R      mAP50  mAP50-95): 100%|██████████| 3/3 [00:00<00:00,  3.14it/s]"
     ]
    },
    {
     "name": "stdout",
     "output_type": "stream",
     "text": [
      "                   all         48         51       0.88      0.627      0.772      0.495\n"
     ]
    },
    {
     "name": "stderr",
     "output_type": "stream",
     "text": [
      "\n"
     ]
    },
    {
     "name": "stdout",
     "output_type": "stream",
     "text": [
      "\n",
      "      Epoch    GPU_mem   box_loss   cls_loss   dfl_loss  Instances       Size\n"
     ]
    },
    {
     "name": "stderr",
     "output_type": "stream",
     "text": [
      "      31/50       7.3G      1.028      1.207       1.29          9       1280: 100%|██████████| 54/54 [00:23<00:00,  2.29it/s]\n",
      "                 Class     Images  Instances      Box(P          R      mAP50  mAP50-95): 100%|██████████| 3/3 [00:00<00:00,  3.20it/s]"
     ]
    },
    {
     "name": "stdout",
     "output_type": "stream",
     "text": [
      "                   all         48         51      0.731      0.765      0.764      0.519\n"
     ]
    },
    {
     "name": "stderr",
     "output_type": "stream",
     "text": [
      "\n"
     ]
    },
    {
     "name": "stdout",
     "output_type": "stream",
     "text": [
      "\n",
      "      Epoch    GPU_mem   box_loss   cls_loss   dfl_loss  Instances       Size\n"
     ]
    },
    {
     "name": "stderr",
     "output_type": "stream",
     "text": [
      "      32/50      7.27G     0.9715      1.143      1.228         12       1280: 100%|██████████| 54/54 [00:23<00:00,  2.29it/s]\n",
      "                 Class     Images  Instances      Box(P          R      mAP50  mAP50-95): 100%|██████████| 3/3 [00:00<00:00,  3.14it/s]"
     ]
    },
    {
     "name": "stdout",
     "output_type": "stream",
     "text": [
      "                   all         48         51      0.745      0.686      0.747      0.532\n"
     ]
    },
    {
     "name": "stderr",
     "output_type": "stream",
     "text": [
      "\n"
     ]
    },
    {
     "name": "stdout",
     "output_type": "stream",
     "text": [
      "\n",
      "      Epoch    GPU_mem   box_loss   cls_loss   dfl_loss  Instances       Size\n"
     ]
    },
    {
     "name": "stderr",
     "output_type": "stream",
     "text": [
      "      33/50      7.27G      1.015      1.155      1.285         16       1280: 100%|██████████| 54/54 [00:23<00:00,  2.29it/s]\n",
      "                 Class     Images  Instances      Box(P          R      mAP50  mAP50-95): 100%|██████████| 3/3 [00:00<00:00,  3.19it/s]"
     ]
    },
    {
     "name": "stdout",
     "output_type": "stream",
     "text": [
      "                   all         48         51      0.731      0.686      0.745      0.487\n"
     ]
    },
    {
     "name": "stderr",
     "output_type": "stream",
     "text": [
      "\n"
     ]
    },
    {
     "name": "stdout",
     "output_type": "stream",
     "text": [
      "\n",
      "      Epoch    GPU_mem   box_loss   cls_loss   dfl_loss  Instances       Size\n"
     ]
    },
    {
     "name": "stderr",
     "output_type": "stream",
     "text": [
      "      34/50      7.26G     0.9538      1.132      1.254         13       1280: 100%|██████████| 54/54 [00:23<00:00,  2.29it/s]\n",
      "                 Class     Images  Instances      Box(P          R      mAP50  mAP50-95): 100%|██████████| 3/3 [00:01<00:00,  2.75it/s]"
     ]
    },
    {
     "name": "stdout",
     "output_type": "stream",
     "text": [
      "                   all         48         51      0.708      0.713      0.724      0.516\n"
     ]
    },
    {
     "name": "stderr",
     "output_type": "stream",
     "text": [
      "\n"
     ]
    },
    {
     "name": "stdout",
     "output_type": "stream",
     "text": [
      "\n",
      "      Epoch    GPU_mem   box_loss   cls_loss   dfl_loss  Instances       Size\n"
     ]
    },
    {
     "name": "stderr",
     "output_type": "stream",
     "text": [
      "      35/50       7.3G      0.935      1.068      1.204         12       1280: 100%|██████████| 54/54 [00:23<00:00,  2.29it/s]\n",
      "                 Class     Images  Instances      Box(P          R      mAP50  mAP50-95): 100%|██████████| 3/3 [00:00<00:00,  3.06it/s]"
     ]
    },
    {
     "name": "stdout",
     "output_type": "stream",
     "text": [
      "                   all         48         51      0.725      0.745      0.731      0.524\n"
     ]
    },
    {
     "name": "stderr",
     "output_type": "stream",
     "text": [
      "\n"
     ]
    },
    {
     "name": "stdout",
     "output_type": "stream",
     "text": [
      "\n",
      "      Epoch    GPU_mem   box_loss   cls_loss   dfl_loss  Instances       Size\n"
     ]
    },
    {
     "name": "stderr",
     "output_type": "stream",
     "text": [
      "      36/50      7.27G     0.9626      1.118      1.232          5       1280: 100%|██████████| 54/54 [00:23<00:00,  2.29it/s]\n",
      "                 Class     Images  Instances      Box(P          R      mAP50  mAP50-95): 100%|██████████| 3/3 [00:00<00:00,  3.19it/s]"
     ]
    },
    {
     "name": "stdout",
     "output_type": "stream",
     "text": [
      "                   all         48         51      0.817      0.647      0.742      0.534\n"
     ]
    },
    {
     "name": "stderr",
     "output_type": "stream",
     "text": [
      "\n"
     ]
    },
    {
     "name": "stdout",
     "output_type": "stream",
     "text": [
      "\n",
      "      Epoch    GPU_mem   box_loss   cls_loss   dfl_loss  Instances       Size\n"
     ]
    },
    {
     "name": "stderr",
     "output_type": "stream",
     "text": [
      "      37/50      7.27G     0.9341      1.035      1.205         22       1280: 100%|██████████| 54/54 [00:23<00:00,  2.29it/s]\n",
      "                 Class     Images  Instances      Box(P          R      mAP50  mAP50-95): 100%|██████████| 3/3 [00:00<00:00,  3.18it/s]"
     ]
    },
    {
     "name": "stdout",
     "output_type": "stream",
     "text": [
      "                   all         48         51      0.719      0.751      0.758      0.547\n"
     ]
    },
    {
     "name": "stderr",
     "output_type": "stream",
     "text": [
      "\n"
     ]
    },
    {
     "name": "stdout",
     "output_type": "stream",
     "text": [
      "\n",
      "      Epoch    GPU_mem   box_loss   cls_loss   dfl_loss  Instances       Size\n"
     ]
    },
    {
     "name": "stderr",
     "output_type": "stream",
     "text": [
      "      38/50      7.26G     0.9482      1.102      1.223          3       1280: 100%|██████████| 54/54 [00:23<00:00,  2.29it/s]\n",
      "                 Class     Images  Instances      Box(P          R      mAP50  mAP50-95): 100%|██████████| 3/3 [00:00<00:00,  3.17it/s]"
     ]
    },
    {
     "name": "stdout",
     "output_type": "stream",
     "text": [
      "                   all         48         51      0.838      0.765      0.809      0.584\n"
     ]
    },
    {
     "name": "stderr",
     "output_type": "stream",
     "text": [
      "\n"
     ]
    },
    {
     "name": "stdout",
     "output_type": "stream",
     "text": [
      "\n",
      "      Epoch    GPU_mem   box_loss   cls_loss   dfl_loss  Instances       Size\n"
     ]
    },
    {
     "name": "stderr",
     "output_type": "stream",
     "text": [
      "      39/50       7.3G     0.9044      1.047      1.177         11       1280: 100%|██████████| 54/54 [00:23<00:00,  2.29it/s]\n",
      "                 Class     Images  Instances      Box(P          R      mAP50  mAP50-95): 100%|██████████| 3/3 [00:00<00:00,  3.16it/s]"
     ]
    },
    {
     "name": "stdout",
     "output_type": "stream",
     "text": [
      "                   all         48         51      0.812      0.725      0.766      0.552\n"
     ]
    },
    {
     "name": "stderr",
     "output_type": "stream",
     "text": [
      "\n"
     ]
    },
    {
     "name": "stdout",
     "output_type": "stream",
     "text": [
      "\n",
      "      Epoch    GPU_mem   box_loss   cls_loss   dfl_loss  Instances       Size\n"
     ]
    },
    {
     "name": "stderr",
     "output_type": "stream",
     "text": [
      "      40/50      7.27G     0.9143      1.048      1.201         17       1280: 100%|██████████| 54/54 [00:23<00:00,  2.29it/s]\n",
      "                 Class     Images  Instances      Box(P          R      mAP50  mAP50-95): 100%|██████████| 3/3 [00:00<00:00,  3.19it/s]"
     ]
    },
    {
     "name": "stdout",
     "output_type": "stream",
     "text": [
      "                   all         48         51      0.729      0.745      0.735      0.545\n"
     ]
    },
    {
     "name": "stderr",
     "output_type": "stream",
     "text": [
      "\n"
     ]
    },
    {
     "name": "stdout",
     "output_type": "stream",
     "text": [
      "Closing dataloader mosaic\n",
      "\n",
      "      Epoch    GPU_mem   box_loss   cls_loss   dfl_loss  Instances       Size\n"
     ]
    },
    {
     "name": "stderr",
     "output_type": "stream",
     "text": [
      "      41/50      7.28G     0.9104      1.039      1.254          4       1280: 100%|██████████| 54/54 [00:23<00:00,  2.28it/s]\n",
      "                 Class     Images  Instances      Box(P          R      mAP50  mAP50-95): 100%|██████████| 3/3 [00:00<00:00,  3.19it/s]"
     ]
    },
    {
     "name": "stdout",
     "output_type": "stream",
     "text": [
      "                   all         48         51      0.667      0.784      0.762       0.56\n"
     ]
    },
    {
     "name": "stderr",
     "output_type": "stream",
     "text": [
      "\n"
     ]
    },
    {
     "name": "stdout",
     "output_type": "stream",
     "text": [
      "\n",
      "      Epoch    GPU_mem   box_loss   cls_loss   dfl_loss  Instances       Size\n"
     ]
    },
    {
     "name": "stderr",
     "output_type": "stream",
     "text": [
      "      42/50      7.26G     0.8442     0.9208      1.204          3       1280: 100%|██████████| 54/54 [00:23<00:00,  2.30it/s]\n",
      "                 Class     Images  Instances      Box(P          R      mAP50  mAP50-95): 100%|██████████| 3/3 [00:00<00:00,  3.14it/s]"
     ]
    },
    {
     "name": "stdout",
     "output_type": "stream",
     "text": [
      "                   all         48         51      0.803      0.686      0.764      0.552\n"
     ]
    },
    {
     "name": "stderr",
     "output_type": "stream",
     "text": [
      "\n"
     ]
    },
    {
     "name": "stdout",
     "output_type": "stream",
     "text": [
      "\n",
      "      Epoch    GPU_mem   box_loss   cls_loss   dfl_loss  Instances       Size\n"
     ]
    },
    {
     "name": "stderr",
     "output_type": "stream",
     "text": [
      "      43/50      7.31G     0.7897     0.8266      1.152          8       1280: 100%|██████████| 54/54 [00:23<00:00,  2.31it/s]\n",
      "                 Class     Images  Instances      Box(P          R      mAP50  mAP50-95): 100%|██████████| 3/3 [00:00<00:00,  3.19it/s]"
     ]
    },
    {
     "name": "stdout",
     "output_type": "stream",
     "text": [
      "                   all         48         51      0.818      0.686      0.737      0.544\n"
     ]
    },
    {
     "name": "stderr",
     "output_type": "stream",
     "text": [
      "\n"
     ]
    },
    {
     "name": "stdout",
     "output_type": "stream",
     "text": [
      "\n",
      "      Epoch    GPU_mem   box_loss   cls_loss   dfl_loss  Instances       Size\n"
     ]
    },
    {
     "name": "stderr",
     "output_type": "stream",
     "text": [
      "      44/50      7.28G     0.8262     0.8101      1.197          6       1280: 100%|██████████| 54/54 [00:23<00:00,  2.30it/s]\n",
      "                 Class     Images  Instances      Box(P          R      mAP50  mAP50-95): 100%|██████████| 3/3 [00:00<00:00,  3.18it/s]"
     ]
    },
    {
     "name": "stdout",
     "output_type": "stream",
     "text": [
      "                   all         48         51      0.749      0.725      0.773      0.582\n"
     ]
    },
    {
     "name": "stderr",
     "output_type": "stream",
     "text": [
      "\n"
     ]
    },
    {
     "name": "stdout",
     "output_type": "stream",
     "text": [
      "\n",
      "      Epoch    GPU_mem   box_loss   cls_loss   dfl_loss  Instances       Size\n"
     ]
    },
    {
     "name": "stderr",
     "output_type": "stream",
     "text": [
      "      45/50      7.27G     0.8202     0.8309      1.155          4       1280: 100%|██████████| 54/54 [00:23<00:00,  2.30it/s]\n",
      "                 Class     Images  Instances      Box(P          R      mAP50  mAP50-95): 100%|██████████| 3/3 [00:00<00:00,  3.16it/s]"
     ]
    },
    {
     "name": "stdout",
     "output_type": "stream",
     "text": [
      "                   all         48         51      0.912      0.612      0.782      0.594\n"
     ]
    },
    {
     "name": "stderr",
     "output_type": "stream",
     "text": [
      "\n"
     ]
    },
    {
     "name": "stdout",
     "output_type": "stream",
     "text": [
      "\n",
      "      Epoch    GPU_mem   box_loss   cls_loss   dfl_loss  Instances       Size\n"
     ]
    },
    {
     "name": "stderr",
     "output_type": "stream",
     "text": [
      "      46/50      7.27G     0.7944     0.7878      1.173          2       1280: 100%|██████████| 54/54 [00:23<00:00,  2.31it/s]\n",
      "                 Class     Images  Instances      Box(P          R      mAP50  mAP50-95): 100%|██████████| 3/3 [00:00<00:00,  3.16it/s]"
     ]
    },
    {
     "name": "stdout",
     "output_type": "stream",
     "text": [
      "                   all         48         51      0.747      0.725      0.784      0.584\n"
     ]
    },
    {
     "name": "stderr",
     "output_type": "stream",
     "text": [
      "\n"
     ]
    },
    {
     "name": "stdout",
     "output_type": "stream",
     "text": [
      "\n",
      "      Epoch    GPU_mem   box_loss   cls_loss   dfl_loss  Instances       Size\n"
     ]
    },
    {
     "name": "stderr",
     "output_type": "stream",
     "text": [
      "      47/50       7.3G     0.7795     0.7738      1.132          8       1280: 100%|██████████| 54/54 [00:23<00:00,  2.31it/s]\n",
      "                 Class     Images  Instances      Box(P          R      mAP50  mAP50-95): 100%|██████████| 3/3 [00:00<00:00,  3.19it/s]"
     ]
    },
    {
     "name": "stdout",
     "output_type": "stream",
     "text": [
      "                   all         48         51      0.731      0.747      0.784      0.578\n"
     ]
    },
    {
     "name": "stderr",
     "output_type": "stream",
     "text": [
      "\n"
     ]
    },
    {
     "name": "stdout",
     "output_type": "stream",
     "text": [
      "\n",
      "      Epoch    GPU_mem   box_loss   cls_loss   dfl_loss  Instances       Size\n"
     ]
    },
    {
     "name": "stderr",
     "output_type": "stream",
     "text": [
      "      48/50      7.27G     0.7469     0.7626      1.131          2       1280: 100%|██████████| 54/54 [00:23<00:00,  2.31it/s]\n",
      "                 Class     Images  Instances      Box(P          R      mAP50  mAP50-95): 100%|██████████| 3/3 [00:00<00:00,  3.13it/s]"
     ]
    },
    {
     "name": "stdout",
     "output_type": "stream",
     "text": [
      "                   all         48         51      0.751      0.745      0.796      0.599\n"
     ]
    },
    {
     "name": "stderr",
     "output_type": "stream",
     "text": [
      "\n"
     ]
    },
    {
     "name": "stdout",
     "output_type": "stream",
     "text": [
      "\n",
      "      Epoch    GPU_mem   box_loss   cls_loss   dfl_loss  Instances       Size\n"
     ]
    },
    {
     "name": "stderr",
     "output_type": "stream",
     "text": [
      "      49/50      7.27G     0.7293     0.7331      1.112          4       1280: 100%|██████████| 54/54 [00:23<00:00,  2.31it/s]\n",
      "                 Class     Images  Instances      Box(P          R      mAP50  mAP50-95): 100%|██████████| 3/3 [00:00<00:00,  3.12it/s]"
     ]
    },
    {
     "name": "stdout",
     "output_type": "stream",
     "text": [
      "                   all         48         51      0.713       0.78      0.806      0.604\n"
     ]
    },
    {
     "name": "stderr",
     "output_type": "stream",
     "text": [
      "\n"
     ]
    },
    {
     "name": "stdout",
     "output_type": "stream",
     "text": [
      "\n",
      "      Epoch    GPU_mem   box_loss   cls_loss   dfl_loss  Instances       Size\n"
     ]
    },
    {
     "name": "stderr",
     "output_type": "stream",
     "text": [
      "      50/50      7.26G     0.7231     0.6887       1.12          5       1280: 100%|██████████| 54/54 [00:23<00:00,  2.31it/s]\n",
      "                 Class     Images  Instances      Box(P          R      mAP50  mAP50-95): 100%|██████████| 3/3 [00:00<00:00,  3.14it/s]"
     ]
    },
    {
     "name": "stdout",
     "output_type": "stream",
     "text": [
      "                   all         48         51      0.715      0.784      0.807      0.613\n"
     ]
    },
    {
     "name": "stderr",
     "output_type": "stream",
     "text": [
      "\n"
     ]
    },
    {
     "name": "stdout",
     "output_type": "stream",
     "text": [
      "\n",
      "50 epochs completed in 0.370 hours.\n",
      "Optimizer stripped from runs\\detect\\train3\\weights\\last.pt, 22.6MB\n",
      "Optimizer stripped from runs\\detect\\train3\\weights\\best.pt, 22.6MB\n",
      "\n",
      "Validating runs\\detect\\train3\\weights\\best.pt...\n",
      "Ultralytics 8.3.19  Python-3.9.20 torch-2.5.0 CUDA:0 (Tesla T4, 15191MiB)\n",
      "Model summary (fused): 168 layers, 11,125,971 parameters, 0 gradients, 28.4 GFLOPs\n"
     ]
    },
    {
     "name": "stderr",
     "output_type": "stream",
     "text": [
      "                 Class     Images  Instances      Box(P          R      mAP50  mAP50-95): 100%|██████████| 3/3 [00:01<00:00,  2.88it/s]\n"
     ]
    },
    {
     "name": "stdout",
     "output_type": "stream",
     "text": [
      "                   all         48         51      0.714      0.784      0.808      0.613\n",
      "Speed: 1.0ms preprocess, 14.9ms inference, 0.0ms loss, 3.1ms postprocess per image\n",
      "Results saved to \u001B[1mruns\\detect\\train3\u001B[0m\n"
     ]
    },
    {
     "data": {
      "text/plain": "ultralytics.utils.metrics.DetMetrics object with attributes:\n\nap_class_index: array([0])\nbox: ultralytics.utils.metrics.Metric object\nconfusion_matrix: <ultralytics.utils.metrics.ConfusionMatrix object at 0x000002BBE2FAB8E0>\ncurves: ['Precision-Recall(B)', 'F1-Confidence(B)', 'Precision-Confidence(B)', 'Recall-Confidence(B)']\ncurves_results: [[array([          0,    0.001001,    0.002002,    0.003003,    0.004004,    0.005005,    0.006006,    0.007007,    0.008008,    0.009009,     0.01001,    0.011011,    0.012012,    0.013013,    0.014014,    0.015015,    0.016016,    0.017017,    0.018018,    0.019019,     0.02002,    0.021021,    0.022022,    0.023023,\n          0.024024,    0.025025,    0.026026,    0.027027,    0.028028,    0.029029,     0.03003,    0.031031,    0.032032,    0.033033,    0.034034,    0.035035,    0.036036,    0.037037,    0.038038,    0.039039,     0.04004,    0.041041,    0.042042,    0.043043,    0.044044,    0.045045,    0.046046,    0.047047,\n          0.048048,    0.049049,     0.05005,    0.051051,    0.052052,    0.053053,    0.054054,    0.055055,    0.056056,    0.057057,    0.058058,    0.059059,     0.06006,    0.061061,    0.062062,    0.063063,    0.064064,    0.065065,    0.066066,    0.067067,    0.068068,    0.069069,     0.07007,    0.071071,\n          0.072072,    0.073073,    0.074074,    0.075075,    0.076076,    0.077077,    0.078078,    0.079079,     0.08008,    0.081081,    0.082082,    0.083083,    0.084084,    0.085085,    0.086086,    0.087087,    0.088088,    0.089089,     0.09009,    0.091091,    0.092092,    0.093093,    0.094094,    0.095095,\n          0.096096,    0.097097,    0.098098,    0.099099,      0.1001,      0.1011,      0.1021,      0.1031,      0.1041,     0.10511,     0.10611,     0.10711,     0.10811,     0.10911,     0.11011,     0.11111,     0.11211,     0.11311,     0.11411,     0.11512,     0.11612,     0.11712,     0.11812,     0.11912,\n           0.12012,     0.12112,     0.12212,     0.12312,     0.12412,     0.12513,     0.12613,     0.12713,     0.12813,     0.12913,     0.13013,     0.13113,     0.13213,     0.13313,     0.13413,     0.13514,     0.13614,     0.13714,     0.13814,     0.13914,     0.14014,     0.14114,     0.14214,     0.14314,\n           0.14414,     0.14515,     0.14615,     0.14715,     0.14815,     0.14915,     0.15015,     0.15115,     0.15215,     0.15315,     0.15415,     0.15516,     0.15616,     0.15716,     0.15816,     0.15916,     0.16016,     0.16116,     0.16216,     0.16316,     0.16416,     0.16517,     0.16617,     0.16717,\n           0.16817,     0.16917,     0.17017,     0.17117,     0.17217,     0.17317,     0.17417,     0.17518,     0.17618,     0.17718,     0.17818,     0.17918,     0.18018,     0.18118,     0.18218,     0.18318,     0.18418,     0.18519,     0.18619,     0.18719,     0.18819,     0.18919,     0.19019,     0.19119,\n           0.19219,     0.19319,     0.19419,      0.1952,      0.1962,      0.1972,      0.1982,      0.1992,      0.2002,      0.2012,      0.2022,      0.2032,      0.2042,     0.20521,     0.20621,     0.20721,     0.20821,     0.20921,     0.21021,     0.21121,     0.21221,     0.21321,     0.21421,     0.21522,\n           0.21622,     0.21722,     0.21822,     0.21922,     0.22022,     0.22122,     0.22222,     0.22322,     0.22422,     0.22523,     0.22623,     0.22723,     0.22823,     0.22923,     0.23023,     0.23123,     0.23223,     0.23323,     0.23423,     0.23524,     0.23624,     0.23724,     0.23824,     0.23924,\n           0.24024,     0.24124,     0.24224,     0.24324,     0.24424,     0.24525,     0.24625,     0.24725,     0.24825,     0.24925,     0.25025,     0.25125,     0.25225,     0.25325,     0.25425,     0.25526,     0.25626,     0.25726,     0.25826,     0.25926,     0.26026,     0.26126,     0.26226,     0.26326,\n           0.26426,     0.26527,     0.26627,     0.26727,     0.26827,     0.26927,     0.27027,     0.27127,     0.27227,     0.27327,     0.27427,     0.27528,     0.27628,     0.27728,     0.27828,     0.27928,     0.28028,     0.28128,     0.28228,     0.28328,     0.28428,     0.28529,     0.28629,     0.28729,\n           0.28829,     0.28929,     0.29029,     0.29129,     0.29229,     0.29329,     0.29429,      0.2953,      0.2963,      0.2973,      0.2983,      0.2993,      0.3003,      0.3013,      0.3023,      0.3033,      0.3043,     0.30531,     0.30631,     0.30731,     0.30831,     0.30931,     0.31031,     0.31131,\n           0.31231,     0.31331,     0.31431,     0.31532,     0.31632,     0.31732,     0.31832,     0.31932,     0.32032,     0.32132,     0.32232,     0.32332,     0.32432,     0.32533,     0.32633,     0.32733,     0.32833,     0.32933,     0.33033,     0.33133,     0.33233,     0.33333,     0.33433,     0.33534,\n           0.33634,     0.33734,     0.33834,     0.33934,     0.34034,     0.34134,     0.34234,     0.34334,     0.34434,     0.34535,     0.34635,     0.34735,     0.34835,     0.34935,     0.35035,     0.35135,     0.35235,     0.35335,     0.35435,     0.35536,     0.35636,     0.35736,     0.35836,     0.35936,\n           0.36036,     0.36136,     0.36236,     0.36336,     0.36436,     0.36537,     0.36637,     0.36737,     0.36837,     0.36937,     0.37037,     0.37137,     0.37237,     0.37337,     0.37437,     0.37538,     0.37638,     0.37738,     0.37838,     0.37938,     0.38038,     0.38138,     0.38238,     0.38338,\n           0.38438,     0.38539,     0.38639,     0.38739,     0.38839,     0.38939,     0.39039,     0.39139,     0.39239,     0.39339,     0.39439,      0.3954,      0.3964,      0.3974,      0.3984,      0.3994,      0.4004,      0.4014,      0.4024,      0.4034,      0.4044,     0.40541,     0.40641,     0.40741,\n           0.40841,     0.40941,     0.41041,     0.41141,     0.41241,     0.41341,     0.41441,     0.41542,     0.41642,     0.41742,     0.41842,     0.41942,     0.42042,     0.42142,     0.42242,     0.42342,     0.42442,     0.42543,     0.42643,     0.42743,     0.42843,     0.42943,     0.43043,     0.43143,\n           0.43243,     0.43343,     0.43443,     0.43544,     0.43644,     0.43744,     0.43844,     0.43944,     0.44044,     0.44144,     0.44244,     0.44344,     0.44444,     0.44545,     0.44645,     0.44745,     0.44845,     0.44945,     0.45045,     0.45145,     0.45245,     0.45345,     0.45445,     0.45546,\n           0.45646,     0.45746,     0.45846,     0.45946,     0.46046,     0.46146,     0.46246,     0.46346,     0.46446,     0.46547,     0.46647,     0.46747,     0.46847,     0.46947,     0.47047,     0.47147,     0.47247,     0.47347,     0.47447,     0.47548,     0.47648,     0.47748,     0.47848,     0.47948,\n           0.48048,     0.48148,     0.48248,     0.48348,     0.48448,     0.48549,     0.48649,     0.48749,     0.48849,     0.48949,     0.49049,     0.49149,     0.49249,     0.49349,     0.49449,      0.4955,      0.4965,      0.4975,      0.4985,      0.4995,      0.5005,      0.5015,      0.5025,      0.5035,\n            0.5045,     0.50551,     0.50651,     0.50751,     0.50851,     0.50951,     0.51051,     0.51151,     0.51251,     0.51351,     0.51451,     0.51552,     0.51652,     0.51752,     0.51852,     0.51952,     0.52052,     0.52152,     0.52252,     0.52352,     0.52452,     0.52553,     0.52653,     0.52753,\n           0.52853,     0.52953,     0.53053,     0.53153,     0.53253,     0.53353,     0.53453,     0.53554,     0.53654,     0.53754,     0.53854,     0.53954,     0.54054,     0.54154,     0.54254,     0.54354,     0.54454,     0.54555,     0.54655,     0.54755,     0.54855,     0.54955,     0.55055,     0.55155,\n           0.55255,     0.55355,     0.55455,     0.55556,     0.55656,     0.55756,     0.55856,     0.55956,     0.56056,     0.56156,     0.56256,     0.56356,     0.56456,     0.56557,     0.56657,     0.56757,     0.56857,     0.56957,     0.57057,     0.57157,     0.57257,     0.57357,     0.57457,     0.57558,\n           0.57658,     0.57758,     0.57858,     0.57958,     0.58058,     0.58158,     0.58258,     0.58358,     0.58458,     0.58559,     0.58659,     0.58759,     0.58859,     0.58959,     0.59059,     0.59159,     0.59259,     0.59359,     0.59459,      0.5956,      0.5966,      0.5976,      0.5986,      0.5996,\n            0.6006,      0.6016,      0.6026,      0.6036,      0.6046,     0.60561,     0.60661,     0.60761,     0.60861,     0.60961,     0.61061,     0.61161,     0.61261,     0.61361,     0.61461,     0.61562,     0.61662,     0.61762,     0.61862,     0.61962,     0.62062,     0.62162,     0.62262,     0.62362,\n           0.62462,     0.62563,     0.62663,     0.62763,     0.62863,     0.62963,     0.63063,     0.63163,     0.63263,     0.63363,     0.63463,     0.63564,     0.63664,     0.63764,     0.63864,     0.63964,     0.64064,     0.64164,     0.64264,     0.64364,     0.64464,     0.64565,     0.64665,     0.64765,\n           0.64865,     0.64965,     0.65065,     0.65165,     0.65265,     0.65365,     0.65465,     0.65566,     0.65666,     0.65766,     0.65866,     0.65966,     0.66066,     0.66166,     0.66266,     0.66366,     0.66466,     0.66567,     0.66667,     0.66767,     0.66867,     0.66967,     0.67067,     0.67167,\n           0.67267,     0.67367,     0.67467,     0.67568,     0.67668,     0.67768,     0.67868,     0.67968,     0.68068,     0.68168,     0.68268,     0.68368,     0.68468,     0.68569,     0.68669,     0.68769,     0.68869,     0.68969,     0.69069,     0.69169,     0.69269,     0.69369,     0.69469,      0.6957,\n            0.6967,      0.6977,      0.6987,      0.6997,      0.7007,      0.7017,      0.7027,      0.7037,      0.7047,     0.70571,     0.70671,     0.70771,     0.70871,     0.70971,     0.71071,     0.71171,     0.71271,     0.71371,     0.71471,     0.71572,     0.71672,     0.71772,     0.71872,     0.71972,\n           0.72072,     0.72172,     0.72272,     0.72372,     0.72472,     0.72573,     0.72673,     0.72773,     0.72873,     0.72973,     0.73073,     0.73173,     0.73273,     0.73373,     0.73473,     0.73574,     0.73674,     0.73774,     0.73874,     0.73974,     0.74074,     0.74174,     0.74274,     0.74374,\n           0.74474,     0.74575,     0.74675,     0.74775,     0.74875,     0.74975,     0.75075,     0.75175,     0.75275,     0.75375,     0.75475,     0.75576,     0.75676,     0.75776,     0.75876,     0.75976,     0.76076,     0.76176,     0.76276,     0.76376,     0.76476,     0.76577,     0.76677,     0.76777,\n           0.76877,     0.76977,     0.77077,     0.77177,     0.77277,     0.77377,     0.77477,     0.77578,     0.77678,     0.77778,     0.77878,     0.77978,     0.78078,     0.78178,     0.78278,     0.78378,     0.78478,     0.78579,     0.78679,     0.78779,     0.78879,     0.78979,     0.79079,     0.79179,\n           0.79279,     0.79379,     0.79479,      0.7958,      0.7968,      0.7978,      0.7988,      0.7998,      0.8008,      0.8018,      0.8028,      0.8038,      0.8048,     0.80581,     0.80681,     0.80781,     0.80881,     0.80981,     0.81081,     0.81181,     0.81281,     0.81381,     0.81481,     0.81582,\n           0.81682,     0.81782,     0.81882,     0.81982,     0.82082,     0.82182,     0.82282,     0.82382,     0.82482,     0.82583,     0.82683,     0.82783,     0.82883,     0.82983,     0.83083,     0.83183,     0.83283,     0.83383,     0.83483,     0.83584,     0.83684,     0.83784,     0.83884,     0.83984,\n           0.84084,     0.84184,     0.84284,     0.84384,     0.84484,     0.84585,     0.84685,     0.84785,     0.84885,     0.84985,     0.85085,     0.85185,     0.85285,     0.85385,     0.85485,     0.85586,     0.85686,     0.85786,     0.85886,     0.85986,     0.86086,     0.86186,     0.86286,     0.86386,\n           0.86486,     0.86587,     0.86687,     0.86787,     0.86887,     0.86987,     0.87087,     0.87187,     0.87287,     0.87387,     0.87487,     0.87588,     0.87688,     0.87788,     0.87888,     0.87988,     0.88088,     0.88188,     0.88288,     0.88388,     0.88488,     0.88589,     0.88689,     0.88789,\n           0.88889,     0.88989,     0.89089,     0.89189,     0.89289,     0.89389,     0.89489,      0.8959,      0.8969,      0.8979,      0.8989,      0.8999,      0.9009,      0.9019,      0.9029,      0.9039,      0.9049,     0.90591,     0.90691,     0.90791,     0.90891,     0.90991,     0.91091,     0.91191,\n           0.91291,     0.91391,     0.91491,     0.91592,     0.91692,     0.91792,     0.91892,     0.91992,     0.92092,     0.92192,     0.92292,     0.92392,     0.92492,     0.92593,     0.92693,     0.92793,     0.92893,     0.92993,     0.93093,     0.93193,     0.93293,     0.93393,     0.93493,     0.93594,\n           0.93694,     0.93794,     0.93894,     0.93994,     0.94094,     0.94194,     0.94294,     0.94394,     0.94494,     0.94595,     0.94695,     0.94795,     0.94895,     0.94995,     0.95095,     0.95195,     0.95295,     0.95395,     0.95495,     0.95596,     0.95696,     0.95796,     0.95896,     0.95996,\n           0.96096,     0.96196,     0.96296,     0.96396,     0.96496,     0.96597,     0.96697,     0.96797,     0.96897,     0.96997,     0.97097,     0.97197,     0.97297,     0.97397,     0.97497,     0.97598,     0.97698,     0.97798,     0.97898,     0.97998,     0.98098,     0.98198,     0.98298,     0.98398,\n           0.98498,     0.98599,     0.98699,     0.98799,     0.98899,     0.98999,     0.99099,     0.99199,     0.99299,     0.99399,     0.99499,       0.996,       0.997,       0.998,       0.999,           1]), array([[          1,           1,           1,           1,           1,           1,           1,           1,           1,           1,           1,           1,           1,           1,           1,           1,           1,           1,           1,           1,           1,           1,           1,\n                  1,           1,           1,           1,           1,           1,           1,           1,           1,           1,           1,           1,           1,           1,           1,           1,           1,           1,           1,           1,           1,           1,           1,\n                  1,           1,           1,           1,           1,           1,           1,           1,           1,           1,           1,           1,           1,           1,           1,           1,           1,           1,           1,           1,           1,           1,           1,\n                  1,           1,           1,           1,           1,           1,           1,           1,           1,           1,           1,           1,           1,           1,           1,           1,           1,           1,           1,           1,           1,           1,           1,\n                  1,           1,           1,           1,           1,           1,           1,           1,           1,           1,           1,           1,           1,           1,           1,           1,           1,           1,           1,           1,           1,           1,           1,\n                  1,           1,           1,           1,           1,           1,           1,           1,           1,           1,           1,           1,           1,           1,           1,           1,           1,           1,           1,           1,           1,           1,           1,\n                  1,           1,           1,           1,           1,           1,           1,           1,           1,           1,           1,           1,           1,           1,           1,           1,           1,           1,           1,           1,           1,           1,           1,\n                  1,           1,           1,           1,           1,           1,           1,           1,           1,           1,           1,           1,           1,           1,           1,           1,           1,           1,           1,           1,           1,           1,           1,\n                  1,           1,           1,           1,           1,           1,           1,           1,           1,           1,           1,           1,           1,           1,           1,           1,           1,           1,           1,           1,           1,           1,           1,\n                  1,           1,           1,           1,           1,           1,           1,           1,           1,           1,           1,           1,           1,           1,           1,           1,           1,           1,           1,           1,           1,           1,           1,\n                  1,           1,           1,           1,           1,           1,           1,           1,           1,           1,           1,           1,           1,           1,           1,           1,           1,           1,           1,           1,           1,           1,           1,\n                  1,           1,     0.95455,     0.95455,     0.95455,     0.95455,     0.95455,     0.95455,     0.95455,     0.95455,     0.95455,     0.95455,     0.95455,     0.95455,     0.95455,     0.95455,     0.95455,     0.95455,     0.95455,     0.95455,     0.95455,     0.95455,     0.95455,\n            0.95455,     0.95455,     0.95455,     0.95455,     0.95455,     0.95455,     0.95455,     0.95455,     0.95455,     0.95455,     0.95455,     0.95455,     0.95455,     0.95455,     0.95455,     0.95455,     0.95455,     0.95455,     0.95455,     0.95455,     0.95455,     0.95455,     0.95455,\n            0.95455,     0.95455,     0.95455,     0.95455,     0.95455,     0.95455,     0.95455,     0.95455,     0.95455,     0.95455,     0.95455,     0.95455,     0.95455,     0.95455,     0.95455,     0.95455,     0.95455,     0.95455,     0.95455,     0.95455,     0.95455,     0.95455,     0.95455,\n            0.95455,     0.95455,     0.95455,     0.95455,     0.95455,     0.95455,     0.95455,     0.95455,     0.95455,     0.95455,     0.95455,     0.95455,     0.95455,     0.95455,     0.95455,     0.95455,     0.95455,     0.95455,     0.95455,     0.95455,     0.95455,     0.95455,     0.95455,\n            0.95455,     0.95455,     0.95455,     0.95455,     0.95455,     0.95455,     0.95455,     0.95455,     0.95455,     0.95455,     0.95455,     0.95455,     0.95455,     0.95455,     0.95455,     0.95455,     0.95455,     0.95455,     0.95455,     0.95455,     0.95455,     0.95455,     0.95455,\n            0.95455,     0.95455,     0.95455,     0.95455,     0.95455,     0.95455,     0.95455,     0.95455,     0.95455,     0.95455,     0.95455,     0.95455,     0.95455,     0.95455,     0.95455,     0.95455,     0.95455,     0.95455,     0.95455,     0.95455,     0.95455,     0.95455,     0.95455,\n            0.95455,     0.95455,     0.95455,     0.95455,     0.95455,     0.95455,     0.95455,     0.95455,     0.95455,     0.95455,     0.95455,     0.95455,     0.95455,     0.95455,     0.95455,     0.95455,     0.95455,     0.95455,     0.95455,     0.95455,     0.95455,     0.92308,     0.92308,\n            0.92308,     0.92308,     0.92308,     0.92308,     0.92308,     0.92308,     0.92308,     0.92308,     0.92308,     0.92308,     0.92308,     0.92308,     0.92308,     0.92308,     0.92308,     0.92308,     0.92308,     0.92308,     0.92308,     0.92308,     0.92308,     0.92308,     0.92308,\n            0.92308,     0.92308,     0.92308,     0.92308,     0.92308,     0.92308,     0.92308,     0.92308,     0.92308,     0.92308,     0.92308,     0.92308,     0.92308,     0.92308,     0.92308,     0.92308,     0.92308,     0.92308,     0.92308,     0.92308,     0.92308,     0.92308,     0.92308,\n            0.92308,     0.92308,     0.92308,     0.92308,     0.92308,     0.92308,     0.92308,     0.92308,     0.92308,     0.92308,     0.92308,     0.90909,     0.90909,     0.90909,     0.90909,     0.90909,     0.90909,     0.90909,     0.90909,     0.90909,     0.90909,     0.90909,     0.90909,\n            0.90909,     0.90909,     0.90909,     0.90909,     0.90909,     0.90909,     0.90909,     0.90909,     0.90909,     0.90909,     0.90909,     0.90909,     0.90909,     0.90909,     0.90909,     0.90909,     0.90909,     0.90909,     0.90909,     0.90909,     0.90909,     0.90909,     0.90909,\n            0.90909,     0.90909,     0.90909,     0.90909,     0.90909,     0.90909,     0.90909,     0.90909,     0.90909,     0.90909,     0.90909,     0.90909,     0.90909,     0.90909,     0.90909,     0.90909,     0.90909,     0.90909,     0.90909,     0.90909,     0.90909,     0.90909,     0.90909,\n            0.90909,     0.90909,     0.90909,     0.90909,     0.90909,     0.90909,     0.90909,     0.90909,     0.90909,     0.90909,     0.90909,     0.90909,     0.90909,     0.90909,     0.90909,     0.90909,     0.90909,     0.90909,     0.90909,     0.90909,     0.90909,     0.90909,     0.90909,\n            0.90909,     0.90909,     0.90909,     0.90909,     0.90909,     0.90909,     0.90909,     0.90909,     0.90909,     0.90909,     0.90909,     0.90909,     0.90909,     0.90909,     0.90909,     0.90909,     0.90909,     0.90909,     0.90909,     0.90909,     0.90909,     0.90909,     0.90909,\n            0.90909,     0.90909,     0.90909,     0.90909,     0.90909,     0.90909,     0.90909,     0.90909,     0.90909,     0.90909,     0.90909,     0.90909,     0.90909,     0.89189,     0.89189,     0.89189,     0.89189,     0.89189,     0.89189,     0.89189,     0.89189,     0.89189,     0.89189,\n            0.89189,     0.89189,     0.89189,     0.89189,     0.89189,     0.89189,     0.89189,     0.89189,     0.89189,     0.89189,     0.89189,     0.89189,     0.89189,     0.89189,     0.89189,     0.89189,     0.89189,     0.89189,     0.89189,     0.89189,     0.89189,     0.89189,     0.89189,\n            0.89189,     0.89189,     0.89189,     0.89189,     0.89189,     0.89189,     0.89189,     0.89189,     0.89189,     0.89189,     0.89189,     0.89189,     0.89189,     0.89189,     0.89189,     0.89189,     0.89189,     0.89189,     0.89189,     0.89189,     0.89189,     0.89189,     0.89189,\n            0.89189,     0.89189,     0.89189,     0.77273,     0.77273,     0.77273,     0.77273,     0.77273,     0.77273,     0.77273,     0.77273,     0.77273,     0.77273,     0.77273,     0.77273,     0.77273,     0.77273,     0.77273,     0.77273,     0.77273,     0.77273,     0.77273,     0.76923,\n            0.76923,     0.76923,     0.76923,     0.76923,     0.76923,     0.76923,     0.76923,     0.76923,     0.76923,     0.76923,     0.76923,     0.76923,     0.76923,     0.76923,     0.76923,     0.76923,     0.76923,     0.76923,     0.76923,     0.76923,     0.76923,     0.76923,     0.76923,\n            0.76923,     0.76923,     0.76923,     0.76923,     0.76923,     0.76923,     0.76923,     0.76923,     0.76923,     0.76923,     0.76923,     0.76923,     0.76923,     0.76923,     0.76923,     0.76923,     0.76923,     0.76923,     0.76923,     0.76923,     0.76923,     0.76923,     0.76923,\n            0.76923,     0.76923,     0.76923,     0.76923,     0.76923,     0.76923,     0.76923,     0.76923,     0.76923,     0.76923,     0.76923,     0.76923,     0.76923,     0.76923,     0.76923,     0.76923,     0.76923,     0.76923,     0.76923,     0.76923,     0.76923,     0.76923,     0.76923,\n            0.76923,     0.76923,     0.76923,     0.76923,     0.76923,     0.76923,     0.76923,     0.76923,     0.76923,     0.76923,     0.76923,     0.76923,     0.76923,     0.76923,     0.76923,     0.76923,     0.76923,     0.76923,     0.76923,     0.76923,     0.76923,     0.76923,     0.76923,\n            0.76923,     0.76923,     0.76923,     0.76923,     0.76923,     0.76923,     0.76923,     0.76923,     0.76923,     0.76923,     0.76923,     0.76923,     0.76923,     0.76923,     0.76923,     0.76923,     0.76923,     0.76923,     0.76923,     0.76923,     0.76923,     0.76923,     0.76923,\n            0.76923,     0.76923,     0.68333,     0.68333,     0.68333,     0.68333,     0.68333,     0.68333,     0.68333,     0.68333,     0.68333,     0.68333,     0.68333,     0.68333,     0.68333,     0.68333,     0.68333,     0.68333,     0.68333,     0.68333,     0.68333,     0.68333,     0.59155,\n            0.59155,     0.59155,     0.59155,     0.59155,     0.59155,     0.59155,     0.59155,     0.59155,     0.59155,     0.59155,     0.59155,     0.59155,     0.59155,     0.59155,     0.59155,     0.59155,     0.59155,     0.59155,      0.5119,      0.5119,      0.5119,      0.5119,      0.5119,\n             0.5119,      0.5119,      0.5119,      0.5119,      0.5119,      0.5119,      0.5119,      0.5119,      0.5119,      0.5119,      0.5119,      0.5119,      0.5119,      0.5119,      0.5119,         0.5,         0.5,         0.5,         0.5,         0.5,         0.5,         0.5,         0.5,\n                0.5,         0.5,         0.5,         0.5,         0.5,         0.5,         0.5,         0.5,         0.5,         0.5,         0.5,     0.41964,     0.41964,     0.41964,     0.41964,     0.41964,     0.41964,     0.41964,     0.41964,     0.41964,     0.41964,     0.41964,     0.41964,\n            0.41964,     0.41964,     0.41964,     0.41964,     0.41964,     0.41964,     0.41964,     0.41964,     0.41964,     0.41964,     0.41964,     0.41964,     0.41964,     0.41964,     0.41964,     0.41964,     0.41964,     0.41964,     0.41964,     0.41964,     0.41964,     0.41964,     0.41964,\n            0.41964,     0.41964,     0.41964,     0.41964,     0.41964,     0.41964,     0.41964,     0.41964,     0.41964,     0.41964,     0.41964,     0.41964,     0.41964,     0.41964,     0.41964,     0.41964,     0.41964,     0.41964,     0.41964,     0.41964,     0.41964,     0.41964,     0.41964,\n            0.41964,     0.23645,     0.23645,     0.23645,     0.23645,     0.23645,     0.23645,     0.23645,     0.23645,     0.23645,     0.23645,     0.23645,     0.23645,     0.23645,     0.23645,     0.23645,     0.23645,     0.23645,     0.23645,     0.23645,     0.23645,     0.20502,     0.20502,\n            0.20502,     0.20502,     0.20502,     0.20502,     0.20502,     0.20502,     0.20502,     0.20502,     0.20502,     0.20502,     0.20502,     0.20502,     0.20502,     0.20502,     0.20502,     0.20502,     0.20502,     0.18382,     0.18382,     0.18382,     0.18382,     0.18382,     0.18382,\n            0.18382,     0.18382,     0.18382,     0.18382,     0.18382,     0.18382,     0.18382,     0.18382,     0.18382,     0.18382,     0.18382,     0.18382,     0.18382,     0.18382,    0.073594,    0.069721,    0.065847,    0.061974,    0.058101,    0.054227,    0.050354,     0.04648,    0.042607,\n           0.038734,     0.03486,    0.030987,    0.027114,     0.02324,    0.019367,    0.015493,     0.01162,   0.0077467,   0.0038734,           0]]), 'Recall', 'Precision'], [array([          0,    0.001001,    0.002002,    0.003003,    0.004004,    0.005005,    0.006006,    0.007007,    0.008008,    0.009009,     0.01001,    0.011011,    0.012012,    0.013013,    0.014014,    0.015015,    0.016016,    0.017017,    0.018018,    0.019019,     0.02002,    0.021021,    0.022022,    0.023023,\n          0.024024,    0.025025,    0.026026,    0.027027,    0.028028,    0.029029,     0.03003,    0.031031,    0.032032,    0.033033,    0.034034,    0.035035,    0.036036,    0.037037,    0.038038,    0.039039,     0.04004,    0.041041,    0.042042,    0.043043,    0.044044,    0.045045,    0.046046,    0.047047,\n          0.048048,    0.049049,     0.05005,    0.051051,    0.052052,    0.053053,    0.054054,    0.055055,    0.056056,    0.057057,    0.058058,    0.059059,     0.06006,    0.061061,    0.062062,    0.063063,    0.064064,    0.065065,    0.066066,    0.067067,    0.068068,    0.069069,     0.07007,    0.071071,\n          0.072072,    0.073073,    0.074074,    0.075075,    0.076076,    0.077077,    0.078078,    0.079079,     0.08008,    0.081081,    0.082082,    0.083083,    0.084084,    0.085085,    0.086086,    0.087087,    0.088088,    0.089089,     0.09009,    0.091091,    0.092092,    0.093093,    0.094094,    0.095095,\n          0.096096,    0.097097,    0.098098,    0.099099,      0.1001,      0.1011,      0.1021,      0.1031,      0.1041,     0.10511,     0.10611,     0.10711,     0.10811,     0.10911,     0.11011,     0.11111,     0.11211,     0.11311,     0.11411,     0.11512,     0.11612,     0.11712,     0.11812,     0.11912,\n           0.12012,     0.12112,     0.12212,     0.12312,     0.12412,     0.12513,     0.12613,     0.12713,     0.12813,     0.12913,     0.13013,     0.13113,     0.13213,     0.13313,     0.13413,     0.13514,     0.13614,     0.13714,     0.13814,     0.13914,     0.14014,     0.14114,     0.14214,     0.14314,\n           0.14414,     0.14515,     0.14615,     0.14715,     0.14815,     0.14915,     0.15015,     0.15115,     0.15215,     0.15315,     0.15415,     0.15516,     0.15616,     0.15716,     0.15816,     0.15916,     0.16016,     0.16116,     0.16216,     0.16316,     0.16416,     0.16517,     0.16617,     0.16717,\n           0.16817,     0.16917,     0.17017,     0.17117,     0.17217,     0.17317,     0.17417,     0.17518,     0.17618,     0.17718,     0.17818,     0.17918,     0.18018,     0.18118,     0.18218,     0.18318,     0.18418,     0.18519,     0.18619,     0.18719,     0.18819,     0.18919,     0.19019,     0.19119,\n           0.19219,     0.19319,     0.19419,      0.1952,      0.1962,      0.1972,      0.1982,      0.1992,      0.2002,      0.2012,      0.2022,      0.2032,      0.2042,     0.20521,     0.20621,     0.20721,     0.20821,     0.20921,     0.21021,     0.21121,     0.21221,     0.21321,     0.21421,     0.21522,\n           0.21622,     0.21722,     0.21822,     0.21922,     0.22022,     0.22122,     0.22222,     0.22322,     0.22422,     0.22523,     0.22623,     0.22723,     0.22823,     0.22923,     0.23023,     0.23123,     0.23223,     0.23323,     0.23423,     0.23524,     0.23624,     0.23724,     0.23824,     0.23924,\n           0.24024,     0.24124,     0.24224,     0.24324,     0.24424,     0.24525,     0.24625,     0.24725,     0.24825,     0.24925,     0.25025,     0.25125,     0.25225,     0.25325,     0.25425,     0.25526,     0.25626,     0.25726,     0.25826,     0.25926,     0.26026,     0.26126,     0.26226,     0.26326,\n           0.26426,     0.26527,     0.26627,     0.26727,     0.26827,     0.26927,     0.27027,     0.27127,     0.27227,     0.27327,     0.27427,     0.27528,     0.27628,     0.27728,     0.27828,     0.27928,     0.28028,     0.28128,     0.28228,     0.28328,     0.28428,     0.28529,     0.28629,     0.28729,\n           0.28829,     0.28929,     0.29029,     0.29129,     0.29229,     0.29329,     0.29429,      0.2953,      0.2963,      0.2973,      0.2983,      0.2993,      0.3003,      0.3013,      0.3023,      0.3033,      0.3043,     0.30531,     0.30631,     0.30731,     0.30831,     0.30931,     0.31031,     0.31131,\n           0.31231,     0.31331,     0.31431,     0.31532,     0.31632,     0.31732,     0.31832,     0.31932,     0.32032,     0.32132,     0.32232,     0.32332,     0.32432,     0.32533,     0.32633,     0.32733,     0.32833,     0.32933,     0.33033,     0.33133,     0.33233,     0.33333,     0.33433,     0.33534,\n           0.33634,     0.33734,     0.33834,     0.33934,     0.34034,     0.34134,     0.34234,     0.34334,     0.34434,     0.34535,     0.34635,     0.34735,     0.34835,     0.34935,     0.35035,     0.35135,     0.35235,     0.35335,     0.35435,     0.35536,     0.35636,     0.35736,     0.35836,     0.35936,\n           0.36036,     0.36136,     0.36236,     0.36336,     0.36436,     0.36537,     0.36637,     0.36737,     0.36837,     0.36937,     0.37037,     0.37137,     0.37237,     0.37337,     0.37437,     0.37538,     0.37638,     0.37738,     0.37838,     0.37938,     0.38038,     0.38138,     0.38238,     0.38338,\n           0.38438,     0.38539,     0.38639,     0.38739,     0.38839,     0.38939,     0.39039,     0.39139,     0.39239,     0.39339,     0.39439,      0.3954,      0.3964,      0.3974,      0.3984,      0.3994,      0.4004,      0.4014,      0.4024,      0.4034,      0.4044,     0.40541,     0.40641,     0.40741,\n           0.40841,     0.40941,     0.41041,     0.41141,     0.41241,     0.41341,     0.41441,     0.41542,     0.41642,     0.41742,     0.41842,     0.41942,     0.42042,     0.42142,     0.42242,     0.42342,     0.42442,     0.42543,     0.42643,     0.42743,     0.42843,     0.42943,     0.43043,     0.43143,\n           0.43243,     0.43343,     0.43443,     0.43544,     0.43644,     0.43744,     0.43844,     0.43944,     0.44044,     0.44144,     0.44244,     0.44344,     0.44444,     0.44545,     0.44645,     0.44745,     0.44845,     0.44945,     0.45045,     0.45145,     0.45245,     0.45345,     0.45445,     0.45546,\n           0.45646,     0.45746,     0.45846,     0.45946,     0.46046,     0.46146,     0.46246,     0.46346,     0.46446,     0.46547,     0.46647,     0.46747,     0.46847,     0.46947,     0.47047,     0.47147,     0.47247,     0.47347,     0.47447,     0.47548,     0.47648,     0.47748,     0.47848,     0.47948,\n           0.48048,     0.48148,     0.48248,     0.48348,     0.48448,     0.48549,     0.48649,     0.48749,     0.48849,     0.48949,     0.49049,     0.49149,     0.49249,     0.49349,     0.49449,      0.4955,      0.4965,      0.4975,      0.4985,      0.4995,      0.5005,      0.5015,      0.5025,      0.5035,\n            0.5045,     0.50551,     0.50651,     0.50751,     0.50851,     0.50951,     0.51051,     0.51151,     0.51251,     0.51351,     0.51451,     0.51552,     0.51652,     0.51752,     0.51852,     0.51952,     0.52052,     0.52152,     0.52252,     0.52352,     0.52452,     0.52553,     0.52653,     0.52753,\n           0.52853,     0.52953,     0.53053,     0.53153,     0.53253,     0.53353,     0.53453,     0.53554,     0.53654,     0.53754,     0.53854,     0.53954,     0.54054,     0.54154,     0.54254,     0.54354,     0.54454,     0.54555,     0.54655,     0.54755,     0.54855,     0.54955,     0.55055,     0.55155,\n           0.55255,     0.55355,     0.55455,     0.55556,     0.55656,     0.55756,     0.55856,     0.55956,     0.56056,     0.56156,     0.56256,     0.56356,     0.56456,     0.56557,     0.56657,     0.56757,     0.56857,     0.56957,     0.57057,     0.57157,     0.57257,     0.57357,     0.57457,     0.57558,\n           0.57658,     0.57758,     0.57858,     0.57958,     0.58058,     0.58158,     0.58258,     0.58358,     0.58458,     0.58559,     0.58659,     0.58759,     0.58859,     0.58959,     0.59059,     0.59159,     0.59259,     0.59359,     0.59459,      0.5956,      0.5966,      0.5976,      0.5986,      0.5996,\n            0.6006,      0.6016,      0.6026,      0.6036,      0.6046,     0.60561,     0.60661,     0.60761,     0.60861,     0.60961,     0.61061,     0.61161,     0.61261,     0.61361,     0.61461,     0.61562,     0.61662,     0.61762,     0.61862,     0.61962,     0.62062,     0.62162,     0.62262,     0.62362,\n           0.62462,     0.62563,     0.62663,     0.62763,     0.62863,     0.62963,     0.63063,     0.63163,     0.63263,     0.63363,     0.63463,     0.63564,     0.63664,     0.63764,     0.63864,     0.63964,     0.64064,     0.64164,     0.64264,     0.64364,     0.64464,     0.64565,     0.64665,     0.64765,\n           0.64865,     0.64965,     0.65065,     0.65165,     0.65265,     0.65365,     0.65465,     0.65566,     0.65666,     0.65766,     0.65866,     0.65966,     0.66066,     0.66166,     0.66266,     0.66366,     0.66466,     0.66567,     0.66667,     0.66767,     0.66867,     0.66967,     0.67067,     0.67167,\n           0.67267,     0.67367,     0.67467,     0.67568,     0.67668,     0.67768,     0.67868,     0.67968,     0.68068,     0.68168,     0.68268,     0.68368,     0.68468,     0.68569,     0.68669,     0.68769,     0.68869,     0.68969,     0.69069,     0.69169,     0.69269,     0.69369,     0.69469,      0.6957,\n            0.6967,      0.6977,      0.6987,      0.6997,      0.7007,      0.7017,      0.7027,      0.7037,      0.7047,     0.70571,     0.70671,     0.70771,     0.70871,     0.70971,     0.71071,     0.71171,     0.71271,     0.71371,     0.71471,     0.71572,     0.71672,     0.71772,     0.71872,     0.71972,\n           0.72072,     0.72172,     0.72272,     0.72372,     0.72472,     0.72573,     0.72673,     0.72773,     0.72873,     0.72973,     0.73073,     0.73173,     0.73273,     0.73373,     0.73473,     0.73574,     0.73674,     0.73774,     0.73874,     0.73974,     0.74074,     0.74174,     0.74274,     0.74374,\n           0.74474,     0.74575,     0.74675,     0.74775,     0.74875,     0.74975,     0.75075,     0.75175,     0.75275,     0.75375,     0.75475,     0.75576,     0.75676,     0.75776,     0.75876,     0.75976,     0.76076,     0.76176,     0.76276,     0.76376,     0.76476,     0.76577,     0.76677,     0.76777,\n           0.76877,     0.76977,     0.77077,     0.77177,     0.77277,     0.77377,     0.77477,     0.77578,     0.77678,     0.77778,     0.77878,     0.77978,     0.78078,     0.78178,     0.78278,     0.78378,     0.78478,     0.78579,     0.78679,     0.78779,     0.78879,     0.78979,     0.79079,     0.79179,\n           0.79279,     0.79379,     0.79479,      0.7958,      0.7968,      0.7978,      0.7988,      0.7998,      0.8008,      0.8018,      0.8028,      0.8038,      0.8048,     0.80581,     0.80681,     0.80781,     0.80881,     0.80981,     0.81081,     0.81181,     0.81281,     0.81381,     0.81481,     0.81582,\n           0.81682,     0.81782,     0.81882,     0.81982,     0.82082,     0.82182,     0.82282,     0.82382,     0.82482,     0.82583,     0.82683,     0.82783,     0.82883,     0.82983,     0.83083,     0.83183,     0.83283,     0.83383,     0.83483,     0.83584,     0.83684,     0.83784,     0.83884,     0.83984,\n           0.84084,     0.84184,     0.84284,     0.84384,     0.84484,     0.84585,     0.84685,     0.84785,     0.84885,     0.84985,     0.85085,     0.85185,     0.85285,     0.85385,     0.85485,     0.85586,     0.85686,     0.85786,     0.85886,     0.85986,     0.86086,     0.86186,     0.86286,     0.86386,\n           0.86486,     0.86587,     0.86687,     0.86787,     0.86887,     0.86987,     0.87087,     0.87187,     0.87287,     0.87387,     0.87487,     0.87588,     0.87688,     0.87788,     0.87888,     0.87988,     0.88088,     0.88188,     0.88288,     0.88388,     0.88488,     0.88589,     0.88689,     0.88789,\n           0.88889,     0.88989,     0.89089,     0.89189,     0.89289,     0.89389,     0.89489,      0.8959,      0.8969,      0.8979,      0.8989,      0.8999,      0.9009,      0.9019,      0.9029,      0.9039,      0.9049,     0.90591,     0.90691,     0.90791,     0.90891,     0.90991,     0.91091,     0.91191,\n           0.91291,     0.91391,     0.91491,     0.91592,     0.91692,     0.91792,     0.91892,     0.91992,     0.92092,     0.92192,     0.92292,     0.92392,     0.92492,     0.92593,     0.92693,     0.92793,     0.92893,     0.92993,     0.93093,     0.93193,     0.93293,     0.93393,     0.93493,     0.93594,\n           0.93694,     0.93794,     0.93894,     0.93994,     0.94094,     0.94194,     0.94294,     0.94394,     0.94494,     0.94595,     0.94695,     0.94795,     0.94895,     0.94995,     0.95095,     0.95195,     0.95295,     0.95395,     0.95495,     0.95596,     0.95696,     0.95796,     0.95896,     0.95996,\n           0.96096,     0.96196,     0.96296,     0.96396,     0.96496,     0.96597,     0.96697,     0.96797,     0.96897,     0.96997,     0.97097,     0.97197,     0.97297,     0.97397,     0.97497,     0.97598,     0.97698,     0.97798,     0.97898,     0.97998,     0.98098,     0.98198,     0.98298,     0.98398,\n           0.98498,     0.98599,     0.98699,     0.98799,     0.98899,     0.98999,     0.99099,     0.99199,     0.99299,     0.99399,     0.99499,       0.996,       0.997,       0.998,       0.999,           1]), array([[    0.14085,     0.14085,     0.20875,     0.24932,     0.28867,     0.30993,     0.33226,     0.34405,     0.36365,     0.37263,     0.37302,      0.3854,     0.39419,     0.40915,     0.42029,     0.42924,     0.44008,     0.44384,     0.44533,     0.45285,     0.45798,     0.46023,     0.46735,\n            0.47326,     0.47585,     0.47903,     0.48163,     0.48837,     0.49446,     0.49694,     0.50179,     0.50817,     0.51574,     0.52035,      0.5286,     0.53685,     0.53973,     0.54999,     0.55195,     0.55817,     0.56059,     0.56198,     0.56507,     0.57155,     0.57406,     0.57558,\n            0.57441,     0.56034,     0.55446,     0.56109,     0.56411,     0.56835,     0.56947,     0.57059,     0.57451,      0.5763,     0.57749,     0.57868,     0.58352,      0.5846,     0.58568,     0.58697,     0.59046,     0.59131,     0.59204,     0.59277,      0.5935,     0.59423,     0.59528,\n            0.59663,     0.59798,     0.59966,     0.60164,     0.60694,     0.60982,     0.61339,     0.61945,     0.62151,     0.62335,     0.62435,     0.62475,     0.62516,     0.62556,     0.62596,     0.62636,     0.62676,     0.62717,     0.62757,     0.62797,     0.62837,     0.62983,     0.63238,\n            0.63175,     0.62988,     0.62802,     0.62615,     0.62428,     0.62455,      0.6278,     0.63226,     0.63327,     0.63421,     0.63515,     0.63608,     0.63702,     0.63591,     0.63476,     0.63362,     0.63247,     0.63132,     0.63016,     0.62901,     0.62786,     0.62753,     0.63173,\n            0.63268,     0.63363,     0.63457,     0.63552,      0.6377,     0.64201,     0.64307,     0.64414,      0.6452,     0.64628,     0.64753,     0.64877,     0.65002,     0.65118,     0.65136,     0.65155,     0.65173,     0.65192,      0.6521,     0.65229,     0.65247,     0.65266,     0.65284,\n            0.65303,     0.65321,      0.6534,     0.65358,     0.65377,     0.65395,     0.65414,     0.65432,     0.65451,     0.65469,     0.65487,     0.65506,     0.65524,     0.65543,     0.65561,     0.65579,     0.65598,     0.65616,     0.65713,     0.65883,     0.66052,     0.66366,     0.66689,\n             0.6675,     0.66811,     0.66872,     0.66933,     0.66994,     0.67054,     0.67115,     0.67175,     0.67332,     0.67554,     0.67778,     0.68016,     0.68253,     0.68413,     0.68557,       0.687,     0.68843,     0.67774,     0.67849,     0.67924,     0.67999,     0.68074,     0.68149,\n            0.68223,     0.68297,     0.68405,     0.68544,     0.68683,     0.68821,     0.69086,     0.69515,     0.69668,      0.6982,     0.69972,     0.70181,     0.70562,     0.70876,     0.71156,     0.71352,     0.71453,     0.71554,     0.71654,     0.71755,     0.71855,     0.72596,     0.72715,\n            0.72833,     0.72951,     0.73069,     0.73186,      0.7324,     0.73275,     0.73309,     0.73343,     0.73377,     0.73411,     0.73445,      0.7348,     0.73514,     0.73548,     0.73582,     0.73616,      0.7365,     0.73683,     0.73717,     0.73751,     0.73785,     0.73819,     0.73853,\n            0.73765,     0.73472,     0.73178,     0.72884,      0.7276,     0.72831,     0.72901,     0.72972,     0.73042,     0.73112,     0.73182,     0.73252,     0.73322,     0.73392,      0.7347,     0.73549,     0.73628,     0.73706,     0.73785,     0.73863,     0.73941,     0.74019,     0.74084,\n            0.74118,     0.74152,     0.74186,      0.7422,     0.74254,     0.74288,     0.74322,     0.74356,      0.7439,     0.74424,     0.74457,     0.74491,     0.74525,     0.74558,     0.74592,     0.74626,     0.74659,     0.74693,     0.74727,      0.7476,     0.74801,     0.74843,     0.74885,\n            0.74927,     0.74969,     0.75011,     0.75053,     0.75095,     0.75137,     0.75179,     0.75221,     0.75263,     0.75304,     0.75346,     0.75388,     0.75429,     0.75471,     0.75569,     0.75668,     0.75766,     0.75865,     0.75963,      0.7606,     0.76158,     0.76592,      0.7696,\n            0.77044,     0.77127,      0.7721,     0.77293,     0.77375,     0.77458,      0.7754,     0.77622,     0.77256,     0.76444,     0.76313,     0.76181,      0.7605,     0.75918,     0.75786,     0.75654,     0.75521,     0.75389,     0.75256,      0.7495,     0.74631,     0.74311,     0.73967,\n            0.72924,     0.72778,     0.72841,     0.72903,     0.72966,     0.73028,      0.7309,     0.73152,     0.73214,     0.73276,     0.73338,     0.73399,     0.73461,     0.73415,     0.73352,     0.73288,     0.73225,     0.73161,     0.73098,     0.73034,     0.72971,     0.72907,     0.72844,\n             0.7278,     0.72716,     0.72652,     0.72589,     0.72525,     0.72461,     0.72397,     0.72333,     0.72269,     0.72205,     0.72052,      0.7175,     0.71447,     0.71143,     0.70838,     0.70935,     0.71037,      0.7114,     0.71242,     0.71343,     0.71444,     0.71545,     0.71568,\n            0.71551,     0.71535,     0.71518,     0.71501,     0.71485,     0.71468,     0.71452,     0.71435,     0.71418,     0.71402,     0.71385,     0.71368,     0.71352,     0.71335,     0.71318,     0.71302,     0.71285,     0.71268,     0.71252,     0.71235,     0.71218,     0.71202,     0.71185,\n            0.71168,     0.71152,     0.71135,     0.71118,     0.71102,     0.71085,     0.71068,     0.71052,     0.71035,     0.71018,     0.71002,     0.70985,     0.70968,     0.70951,     0.70935,     0.70918,     0.70901,     0.70885,     0.70868,     0.70851,     0.70834,     0.70818,     0.70801,\n            0.70784,     0.70767,     0.70751,     0.70734,     0.70717,       0.707,     0.70684,     0.70667,      0.7065,     0.70633,     0.70617,       0.706,     0.70583,     0.70566,      0.7055,     0.70533,     0.70516,     0.70499,     0.70482,     0.70466,     0.70449,     0.70432,     0.70415,\n            0.70398,     0.70382,     0.70365,     0.70348,     0.70331,     0.70314,     0.70298,     0.70281,     0.70264,     0.70247,      0.7023,     0.70213,     0.70249,     0.70287,     0.70324,     0.70362,       0.704,     0.70437,     0.70475,     0.70512,     0.70549,     0.70587,     0.70624,\n            0.70661,     0.70698,     0.70736,     0.70773,      0.7081,     0.70847,     0.70884,     0.70921,     0.70957,     0.71064,     0.71196,     0.71329,      0.7146,     0.71591,     0.71722,     0.71758,     0.71779,     0.71801,     0.71822,     0.71844,     0.71865,     0.71887,     0.71908,\n             0.7193,     0.71951,     0.71972,     0.71994,     0.72015,     0.72037,     0.72058,     0.72079,       0.721,     0.72122,     0.72143,     0.72164,     0.72185,     0.72207,     0.72228,     0.72249,      0.7227,     0.72291,     0.72313,     0.72334,     0.72355,     0.72376,     0.72397,\n            0.72418,     0.72439,      0.7246,     0.72481,     0.72502,     0.72523,     0.72535,     0.72545,     0.72555,     0.72565,     0.72575,     0.72585,     0.72594,     0.72604,     0.72614,     0.72624,     0.72634,     0.72643,     0.72653,     0.72663,     0.72673,     0.72683,     0.72693,\n            0.72702,     0.72712,     0.72722,     0.72732,     0.72741,     0.72751,     0.72761,     0.72771,     0.72781,      0.7279,       0.728,      0.7281,      0.7282,     0.72829,     0.72839,     0.72849,     0.72859,     0.72868,     0.72878,     0.72888,     0.72898,     0.72907,     0.72917,\n            0.72927,     0.72936,     0.72946,     0.72956,     0.72966,     0.72975,     0.72985,     0.72995,     0.73004,     0.73014,     0.73024,     0.73033,     0.73043,     0.73053,     0.73063,     0.73072,     0.73082,     0.73092,     0.73101,     0.73111,      0.7312,      0.7313,      0.7314,\n            0.73149,     0.73159,     0.73169,     0.73178,     0.73188,     0.73198,     0.73207,     0.73217,     0.73226,     0.73236,     0.73246,     0.73255,     0.73265,     0.73275,     0.73284,     0.73294,     0.73303,     0.73313,     0.73322,     0.73332,     0.73372,     0.73417,     0.73462,\n            0.73507,     0.73552,     0.73597,     0.73641,     0.73686,     0.73731,     0.73775,     0.73819,     0.73864,     0.73908,     0.73952,     0.73996,      0.7404,     0.74084,     0.74128,     0.74167,     0.74196,     0.74225,     0.74255,     0.74284,     0.74313,     0.74342,     0.74371,\n              0.744,     0.74429,     0.74458,     0.74487,     0.74516,     0.74544,     0.74573,     0.74602,     0.74631,     0.74659,     0.74688,     0.74717,     0.74745,     0.74774,     0.74803,     0.74831,      0.7486,     0.74888,     0.74917,     0.74945,     0.74973,     0.74996,     0.74928,\n             0.7486,     0.74792,     0.74724,     0.74656,     0.74587,     0.74519,     0.74451,     0.74382,     0.74314,     0.74245,     0.74177,     0.74108,      0.7404,     0.73971,     0.73902,     0.73833,     0.73764,     0.73695,     0.73626,     0.73544,     0.73331,     0.73116,     0.72902,\n            0.72686,      0.7247,     0.72254,     0.72073,     0.71997,      0.7192,     0.71844,     0.71767,      0.7169,     0.71613,     0.71536,     0.71459,     0.71382,     0.71305,     0.71228,     0.71151,     0.71074,     0.70996,     0.70919,     0.70841,     0.70763,     0.70686,     0.70608,\n            0.70657,     0.70749,     0.70841,     0.70932,     0.71023,     0.71113,     0.71203,     0.71293,     0.71382,     0.70923,     0.69874,     0.69551,     0.69227,     0.68902,     0.68575,     0.68242,     0.67874,     0.67505,     0.67133,     0.66761,     0.66615,     0.66546,     0.66477,\n            0.66408,     0.66338,     0.66269,       0.662,      0.6613,     0.66061,     0.65991,     0.65921,     0.65852,     0.65782,     0.65712,     0.65642,     0.65572,     0.65502,     0.65432,     0.65362,     0.65292,     0.65222,     0.65152,     0.65081,     0.65011,     0.64957,     0.64907,\n            0.64857,     0.64806,     0.64756,     0.64706,     0.64655,     0.64605,     0.64554,     0.64504,     0.64453,     0.64403,     0.64352,     0.64301,     0.64251,       0.642,     0.64149,     0.64098,     0.64048,     0.63997,     0.63946,     0.63895,     0.63844,     0.63793,     0.63742,\n            0.63691,      0.6364,     0.63589,     0.63538,     0.63486,     0.63435,     0.63384,     0.63333,     0.63274,     0.63183,     0.63091,        0.63,     0.62908,     0.62817,     0.62725,     0.62633,     0.62541,     0.62449,     0.62357,     0.62265,     0.62172,      0.6208,     0.61987,\n            0.61895,     0.61802,     0.61709,     0.61616,     0.61551,     0.61627,     0.61703,     0.61778,     0.61853,     0.61928,     0.62002,     0.62076,      0.6215,     0.62223,     0.62296,     0.61537,     0.60425,     0.60202,      0.5998,     0.59756,     0.59532,     0.59307,     0.59082,\n            0.58856,     0.56892,      0.5748,     0.57193,     0.56905,     0.56616,     0.56326,     0.56035,     0.55743,     0.55058,     0.53665,     0.53098,     0.52623,     0.52146,     0.51666,     0.51381,     0.51289,     0.51196,     0.51103,      0.5101,     0.50917,     0.50823,      0.5073,\n            0.50636,     0.50543,     0.50449,     0.50355,     0.50261,     0.50167,     0.50073,     0.49978,     0.49884,     0.49789,     0.49695,       0.496,     0.49505,      0.4941,     0.49315,     0.46914,     0.45359,     0.44701,     0.44582,     0.44463,     0.44343,     0.44224,     0.44104,\n            0.43984,     0.43864,     0.43744,     0.43623,     0.43503,     0.43382,     0.43261,      0.4314,     0.43019,     0.42897,     0.42776,     0.42654,     0.42532,     0.42408,     0.42267,     0.42127,     0.41986,     0.41846,     0.41704,     0.41563,     0.41422,      0.4128,     0.41138,\n            0.40996,     0.40853,      0.4071,     0.40568,     0.40424,     0.40281,     0.40137,      0.4001,     0.40232,     0.40445,      0.4057,     0.40104,     0.39635,     0.39164,      0.3869,     0.38213,     0.37811,     0.37433,     0.37052,      0.3667,     0.36286,     0.35901,     0.35513,\n            0.35336,     0.35175,     0.35015,     0.34854,     0.34692,     0.34531,     0.34369,     0.34206,     0.34044,     0.33881,     0.33717,     0.33554,      0.3339,     0.33225,     0.33061,     0.32896,     0.32628,     0.32157,     0.31684,     0.31208,      0.3073,     0.30249,     0.29647,\n            0.28914,     0.28176,     0.27431,     0.26679,     0.25921,     0.25157,     0.24385,     0.23784,     0.23263,     0.22738,      0.2221,     0.21679,     0.21145,     0.20697,     0.20265,     0.19831,     0.19395,     0.18957,     0.18517,     0.18074,     0.17547,     0.16937,     0.16322,\n            0.15704,     0.15081,     0.14211,     0.11869,     0.10785,     0.10304,    0.098204,    0.093345,    0.088462,    0.083553,    0.078619,    0.074501,    0.071837,    0.069164,    0.066484,    0.063797,    0.061102,      0.0584,     0.05569,    0.052973,    0.050248,    0.047516,    0.044775,\n           0.042027,    0.039272,           0,           0,           0,           0,           0,           0,           0,           0,           0,           0,           0,           0,           0,           0,           0,           0,           0,           0,           0,           0,           0,\n                  0,           0,           0,           0,           0,           0,           0,           0,           0,           0,           0]]), 'Confidence', 'F1'], [array([          0,    0.001001,    0.002002,    0.003003,    0.004004,    0.005005,    0.006006,    0.007007,    0.008008,    0.009009,     0.01001,    0.011011,    0.012012,    0.013013,    0.014014,    0.015015,    0.016016,    0.017017,    0.018018,    0.019019,     0.02002,    0.021021,    0.022022,    0.023023,\n          0.024024,    0.025025,    0.026026,    0.027027,    0.028028,    0.029029,     0.03003,    0.031031,    0.032032,    0.033033,    0.034034,    0.035035,    0.036036,    0.037037,    0.038038,    0.039039,     0.04004,    0.041041,    0.042042,    0.043043,    0.044044,    0.045045,    0.046046,    0.047047,\n          0.048048,    0.049049,     0.05005,    0.051051,    0.052052,    0.053053,    0.054054,    0.055055,    0.056056,    0.057057,    0.058058,    0.059059,     0.06006,    0.061061,    0.062062,    0.063063,    0.064064,    0.065065,    0.066066,    0.067067,    0.068068,    0.069069,     0.07007,    0.071071,\n          0.072072,    0.073073,    0.074074,    0.075075,    0.076076,    0.077077,    0.078078,    0.079079,     0.08008,    0.081081,    0.082082,    0.083083,    0.084084,    0.085085,    0.086086,    0.087087,    0.088088,    0.089089,     0.09009,    0.091091,    0.092092,    0.093093,    0.094094,    0.095095,\n          0.096096,    0.097097,    0.098098,    0.099099,      0.1001,      0.1011,      0.1021,      0.1031,      0.1041,     0.10511,     0.10611,     0.10711,     0.10811,     0.10911,     0.11011,     0.11111,     0.11211,     0.11311,     0.11411,     0.11512,     0.11612,     0.11712,     0.11812,     0.11912,\n           0.12012,     0.12112,     0.12212,     0.12312,     0.12412,     0.12513,     0.12613,     0.12713,     0.12813,     0.12913,     0.13013,     0.13113,     0.13213,     0.13313,     0.13413,     0.13514,     0.13614,     0.13714,     0.13814,     0.13914,     0.14014,     0.14114,     0.14214,     0.14314,\n           0.14414,     0.14515,     0.14615,     0.14715,     0.14815,     0.14915,     0.15015,     0.15115,     0.15215,     0.15315,     0.15415,     0.15516,     0.15616,     0.15716,     0.15816,     0.15916,     0.16016,     0.16116,     0.16216,     0.16316,     0.16416,     0.16517,     0.16617,     0.16717,\n           0.16817,     0.16917,     0.17017,     0.17117,     0.17217,     0.17317,     0.17417,     0.17518,     0.17618,     0.17718,     0.17818,     0.17918,     0.18018,     0.18118,     0.18218,     0.18318,     0.18418,     0.18519,     0.18619,     0.18719,     0.18819,     0.18919,     0.19019,     0.19119,\n           0.19219,     0.19319,     0.19419,      0.1952,      0.1962,      0.1972,      0.1982,      0.1992,      0.2002,      0.2012,      0.2022,      0.2032,      0.2042,     0.20521,     0.20621,     0.20721,     0.20821,     0.20921,     0.21021,     0.21121,     0.21221,     0.21321,     0.21421,     0.21522,\n           0.21622,     0.21722,     0.21822,     0.21922,     0.22022,     0.22122,     0.22222,     0.22322,     0.22422,     0.22523,     0.22623,     0.22723,     0.22823,     0.22923,     0.23023,     0.23123,     0.23223,     0.23323,     0.23423,     0.23524,     0.23624,     0.23724,     0.23824,     0.23924,\n           0.24024,     0.24124,     0.24224,     0.24324,     0.24424,     0.24525,     0.24625,     0.24725,     0.24825,     0.24925,     0.25025,     0.25125,     0.25225,     0.25325,     0.25425,     0.25526,     0.25626,     0.25726,     0.25826,     0.25926,     0.26026,     0.26126,     0.26226,     0.26326,\n           0.26426,     0.26527,     0.26627,     0.26727,     0.26827,     0.26927,     0.27027,     0.27127,     0.27227,     0.27327,     0.27427,     0.27528,     0.27628,     0.27728,     0.27828,     0.27928,     0.28028,     0.28128,     0.28228,     0.28328,     0.28428,     0.28529,     0.28629,     0.28729,\n           0.28829,     0.28929,     0.29029,     0.29129,     0.29229,     0.29329,     0.29429,      0.2953,      0.2963,      0.2973,      0.2983,      0.2993,      0.3003,      0.3013,      0.3023,      0.3033,      0.3043,     0.30531,     0.30631,     0.30731,     0.30831,     0.30931,     0.31031,     0.31131,\n           0.31231,     0.31331,     0.31431,     0.31532,     0.31632,     0.31732,     0.31832,     0.31932,     0.32032,     0.32132,     0.32232,     0.32332,     0.32432,     0.32533,     0.32633,     0.32733,     0.32833,     0.32933,     0.33033,     0.33133,     0.33233,     0.33333,     0.33433,     0.33534,\n           0.33634,     0.33734,     0.33834,     0.33934,     0.34034,     0.34134,     0.34234,     0.34334,     0.34434,     0.34535,     0.34635,     0.34735,     0.34835,     0.34935,     0.35035,     0.35135,     0.35235,     0.35335,     0.35435,     0.35536,     0.35636,     0.35736,     0.35836,     0.35936,\n           0.36036,     0.36136,     0.36236,     0.36336,     0.36436,     0.36537,     0.36637,     0.36737,     0.36837,     0.36937,     0.37037,     0.37137,     0.37237,     0.37337,     0.37437,     0.37538,     0.37638,     0.37738,     0.37838,     0.37938,     0.38038,     0.38138,     0.38238,     0.38338,\n           0.38438,     0.38539,     0.38639,     0.38739,     0.38839,     0.38939,     0.39039,     0.39139,     0.39239,     0.39339,     0.39439,      0.3954,      0.3964,      0.3974,      0.3984,      0.3994,      0.4004,      0.4014,      0.4024,      0.4034,      0.4044,     0.40541,     0.40641,     0.40741,\n           0.40841,     0.40941,     0.41041,     0.41141,     0.41241,     0.41341,     0.41441,     0.41542,     0.41642,     0.41742,     0.41842,     0.41942,     0.42042,     0.42142,     0.42242,     0.42342,     0.42442,     0.42543,     0.42643,     0.42743,     0.42843,     0.42943,     0.43043,     0.43143,\n           0.43243,     0.43343,     0.43443,     0.43544,     0.43644,     0.43744,     0.43844,     0.43944,     0.44044,     0.44144,     0.44244,     0.44344,     0.44444,     0.44545,     0.44645,     0.44745,     0.44845,     0.44945,     0.45045,     0.45145,     0.45245,     0.45345,     0.45445,     0.45546,\n           0.45646,     0.45746,     0.45846,     0.45946,     0.46046,     0.46146,     0.46246,     0.46346,     0.46446,     0.46547,     0.46647,     0.46747,     0.46847,     0.46947,     0.47047,     0.47147,     0.47247,     0.47347,     0.47447,     0.47548,     0.47648,     0.47748,     0.47848,     0.47948,\n           0.48048,     0.48148,     0.48248,     0.48348,     0.48448,     0.48549,     0.48649,     0.48749,     0.48849,     0.48949,     0.49049,     0.49149,     0.49249,     0.49349,     0.49449,      0.4955,      0.4965,      0.4975,      0.4985,      0.4995,      0.5005,      0.5015,      0.5025,      0.5035,\n            0.5045,     0.50551,     0.50651,     0.50751,     0.50851,     0.50951,     0.51051,     0.51151,     0.51251,     0.51351,     0.51451,     0.51552,     0.51652,     0.51752,     0.51852,     0.51952,     0.52052,     0.52152,     0.52252,     0.52352,     0.52452,     0.52553,     0.52653,     0.52753,\n           0.52853,     0.52953,     0.53053,     0.53153,     0.53253,     0.53353,     0.53453,     0.53554,     0.53654,     0.53754,     0.53854,     0.53954,     0.54054,     0.54154,     0.54254,     0.54354,     0.54454,     0.54555,     0.54655,     0.54755,     0.54855,     0.54955,     0.55055,     0.55155,\n           0.55255,     0.55355,     0.55455,     0.55556,     0.55656,     0.55756,     0.55856,     0.55956,     0.56056,     0.56156,     0.56256,     0.56356,     0.56456,     0.56557,     0.56657,     0.56757,     0.56857,     0.56957,     0.57057,     0.57157,     0.57257,     0.57357,     0.57457,     0.57558,\n           0.57658,     0.57758,     0.57858,     0.57958,     0.58058,     0.58158,     0.58258,     0.58358,     0.58458,     0.58559,     0.58659,     0.58759,     0.58859,     0.58959,     0.59059,     0.59159,     0.59259,     0.59359,     0.59459,      0.5956,      0.5966,      0.5976,      0.5986,      0.5996,\n            0.6006,      0.6016,      0.6026,      0.6036,      0.6046,     0.60561,     0.60661,     0.60761,     0.60861,     0.60961,     0.61061,     0.61161,     0.61261,     0.61361,     0.61461,     0.61562,     0.61662,     0.61762,     0.61862,     0.61962,     0.62062,     0.62162,     0.62262,     0.62362,\n           0.62462,     0.62563,     0.62663,     0.62763,     0.62863,     0.62963,     0.63063,     0.63163,     0.63263,     0.63363,     0.63463,     0.63564,     0.63664,     0.63764,     0.63864,     0.63964,     0.64064,     0.64164,     0.64264,     0.64364,     0.64464,     0.64565,     0.64665,     0.64765,\n           0.64865,     0.64965,     0.65065,     0.65165,     0.65265,     0.65365,     0.65465,     0.65566,     0.65666,     0.65766,     0.65866,     0.65966,     0.66066,     0.66166,     0.66266,     0.66366,     0.66466,     0.66567,     0.66667,     0.66767,     0.66867,     0.66967,     0.67067,     0.67167,\n           0.67267,     0.67367,     0.67467,     0.67568,     0.67668,     0.67768,     0.67868,     0.67968,     0.68068,     0.68168,     0.68268,     0.68368,     0.68468,     0.68569,     0.68669,     0.68769,     0.68869,     0.68969,     0.69069,     0.69169,     0.69269,     0.69369,     0.69469,      0.6957,\n            0.6967,      0.6977,      0.6987,      0.6997,      0.7007,      0.7017,      0.7027,      0.7037,      0.7047,     0.70571,     0.70671,     0.70771,     0.70871,     0.70971,     0.71071,     0.71171,     0.71271,     0.71371,     0.71471,     0.71572,     0.71672,     0.71772,     0.71872,     0.71972,\n           0.72072,     0.72172,     0.72272,     0.72372,     0.72472,     0.72573,     0.72673,     0.72773,     0.72873,     0.72973,     0.73073,     0.73173,     0.73273,     0.73373,     0.73473,     0.73574,     0.73674,     0.73774,     0.73874,     0.73974,     0.74074,     0.74174,     0.74274,     0.74374,\n           0.74474,     0.74575,     0.74675,     0.74775,     0.74875,     0.74975,     0.75075,     0.75175,     0.75275,     0.75375,     0.75475,     0.75576,     0.75676,     0.75776,     0.75876,     0.75976,     0.76076,     0.76176,     0.76276,     0.76376,     0.76476,     0.76577,     0.76677,     0.76777,\n           0.76877,     0.76977,     0.77077,     0.77177,     0.77277,     0.77377,     0.77477,     0.77578,     0.77678,     0.77778,     0.77878,     0.77978,     0.78078,     0.78178,     0.78278,     0.78378,     0.78478,     0.78579,     0.78679,     0.78779,     0.78879,     0.78979,     0.79079,     0.79179,\n           0.79279,     0.79379,     0.79479,      0.7958,      0.7968,      0.7978,      0.7988,      0.7998,      0.8008,      0.8018,      0.8028,      0.8038,      0.8048,     0.80581,     0.80681,     0.80781,     0.80881,     0.80981,     0.81081,     0.81181,     0.81281,     0.81381,     0.81481,     0.81582,\n           0.81682,     0.81782,     0.81882,     0.81982,     0.82082,     0.82182,     0.82282,     0.82382,     0.82482,     0.82583,     0.82683,     0.82783,     0.82883,     0.82983,     0.83083,     0.83183,     0.83283,     0.83383,     0.83483,     0.83584,     0.83684,     0.83784,     0.83884,     0.83984,\n           0.84084,     0.84184,     0.84284,     0.84384,     0.84484,     0.84585,     0.84685,     0.84785,     0.84885,     0.84985,     0.85085,     0.85185,     0.85285,     0.85385,     0.85485,     0.85586,     0.85686,     0.85786,     0.85886,     0.85986,     0.86086,     0.86186,     0.86286,     0.86386,\n           0.86486,     0.86587,     0.86687,     0.86787,     0.86887,     0.86987,     0.87087,     0.87187,     0.87287,     0.87387,     0.87487,     0.87588,     0.87688,     0.87788,     0.87888,     0.87988,     0.88088,     0.88188,     0.88288,     0.88388,     0.88488,     0.88589,     0.88689,     0.88789,\n           0.88889,     0.88989,     0.89089,     0.89189,     0.89289,     0.89389,     0.89489,      0.8959,      0.8969,      0.8979,      0.8989,      0.8999,      0.9009,      0.9019,      0.9029,      0.9039,      0.9049,     0.90591,     0.90691,     0.90791,     0.90891,     0.90991,     0.91091,     0.91191,\n           0.91291,     0.91391,     0.91491,     0.91592,     0.91692,     0.91792,     0.91892,     0.91992,     0.92092,     0.92192,     0.92292,     0.92392,     0.92492,     0.92593,     0.92693,     0.92793,     0.92893,     0.92993,     0.93093,     0.93193,     0.93293,     0.93393,     0.93493,     0.93594,\n           0.93694,     0.93794,     0.93894,     0.93994,     0.94094,     0.94194,     0.94294,     0.94394,     0.94494,     0.94595,     0.94695,     0.94795,     0.94895,     0.94995,     0.95095,     0.95195,     0.95295,     0.95395,     0.95495,     0.95596,     0.95696,     0.95796,     0.95896,     0.95996,\n           0.96096,     0.96196,     0.96296,     0.96396,     0.96496,     0.96597,     0.96697,     0.96797,     0.96897,     0.96997,     0.97097,     0.97197,     0.97297,     0.97397,     0.97497,     0.97598,     0.97698,     0.97798,     0.97898,     0.97998,     0.98098,     0.98198,     0.98298,     0.98398,\n           0.98498,     0.98599,     0.98699,     0.98799,     0.98899,     0.98999,     0.99099,     0.99199,     0.99299,     0.99399,     0.99499,       0.996,       0.997,       0.998,       0.999,           1]), array([[   0.075873,    0.075873,     0.11681,     0.14282,     0.16925,     0.18477,     0.20174,      0.2105,     0.22536,      0.2323,     0.23384,     0.24364,     0.25072,     0.26295,     0.27222,     0.27977,     0.28906,     0.29231,     0.29361,     0.30017,      0.3047,     0.30669,     0.31305,\n            0.31838,     0.32073,     0.32362,     0.32601,     0.33221,     0.33787,     0.34019,     0.34476,     0.35081,     0.35806,     0.36252,     0.37058,     0.37874,     0.38161,     0.39195,     0.39395,     0.40032,     0.40281,     0.40424,     0.40745,     0.41422,     0.41687,     0.41847,\n            0.41828,     0.41052,      0.4085,     0.41573,     0.41906,     0.42376,       0.425,     0.42625,     0.43064,     0.43265,     0.43399,     0.43534,     0.44085,     0.44208,     0.44332,     0.44479,     0.44881,     0.44979,     0.45064,     0.45149,     0.45234,     0.45319,      0.4544,\n            0.45598,     0.45756,     0.45953,     0.46186,     0.46813,     0.47157,     0.47585,     0.48318,      0.4857,     0.48796,     0.48918,     0.48967,     0.49017,     0.49066,     0.49116,     0.49165,     0.49215,     0.49264,     0.49314,     0.49363,     0.49413,     0.49594,     0.49912,\n            0.49922,     0.49813,     0.49705,     0.49597,     0.49488,     0.49596,     0.50008,     0.50576,     0.50706,     0.50826,     0.50947,     0.51067,     0.51188,     0.51125,     0.51059,     0.50992,     0.50926,     0.50859,     0.50793,     0.50726,      0.5066,     0.50689,      0.5124,\n            0.51365,      0.5149,     0.51615,     0.51739,      0.5203,     0.52605,     0.52749,     0.52892,     0.53036,     0.53182,     0.53351,      0.5352,      0.5369,     0.53848,     0.53873,     0.53899,     0.53924,      0.5395,     0.53975,        0.54,     0.54026,     0.54051,     0.54076,\n            0.54102,     0.54127,     0.54153,     0.54178,     0.54203,     0.54229,     0.54254,     0.54279,     0.54305,      0.5433,     0.54356,     0.54381,     0.54406,     0.54432,     0.54457,     0.54482,     0.54508,     0.54533,     0.54667,     0.54902,     0.55138,     0.55577,     0.56032,\n            0.56118,     0.56204,      0.5629,     0.56377,     0.56463,     0.56549,     0.56635,     0.56721,     0.56945,     0.57263,     0.57586,     0.57931,     0.58276,     0.58509,     0.58719,      0.5893,      0.5914,      0.5858,     0.58692,     0.58805,     0.58917,     0.59029,     0.59141,\n            0.59254,     0.59366,     0.59529,      0.5974,     0.59951,     0.60161,     0.60568,      0.6123,     0.61468,     0.61705,     0.61943,     0.62271,     0.62874,     0.63375,     0.63824,     0.64139,     0.64303,     0.64466,      0.6463,     0.64793,     0.64957,     0.66178,     0.66376,\n            0.66573,     0.66771,     0.66968,     0.67166,     0.67257,     0.67315,     0.67373,      0.6743,     0.67488,     0.67546,     0.67604,     0.67662,     0.67719,     0.67777,     0.67835,     0.67893,      0.6795,     0.68008,     0.68066,     0.68124,     0.68181,     0.68239,     0.68297,\n            0.68282,     0.68145,     0.68007,      0.6787,     0.67854,     0.67977,       0.681,     0.68223,     0.68346,     0.68469,     0.68592,     0.68714,     0.68837,      0.6896,     0.69099,     0.69239,     0.69379,     0.69518,     0.69658,     0.69798,     0.69938,     0.70077,     0.70194,\n            0.70255,     0.70316,     0.70377,     0.70438,       0.705,     0.70561,     0.70622,     0.70683,     0.70744,     0.70805,     0.70867,     0.70928,     0.70989,      0.7105,     0.71111,     0.71172,     0.71234,     0.71295,     0.71356,     0.71417,     0.71491,     0.71568,     0.71646,\n            0.71723,       0.718,     0.71877,     0.71954,     0.72031,     0.72109,     0.72186,     0.72263,      0.7234,     0.72417,     0.72494,     0.72572,     0.72649,     0.72726,     0.72908,     0.73092,     0.73276,      0.7346,     0.73644,     0.73828,     0.74013,     0.74837,     0.75543,\n            0.75704,     0.75865,     0.76026,     0.76187,     0.76348,     0.76508,     0.76669,      0.7683,     0.76766,      0.7646,      0.7641,     0.76359,     0.76308,     0.76257,     0.76206,     0.76156,     0.76105,     0.76054,     0.76003,     0.75883,     0.75757,     0.75632,     0.75497,\n            0.75078,     0.75109,     0.75242,     0.75376,     0.75509,     0.75643,     0.75776,      0.7591,     0.76043,     0.76177,      0.7631,     0.76444,     0.76577,     0.76574,      0.7655,     0.76525,       0.765,     0.76475,      0.7645,     0.76425,     0.76401,     0.76376,     0.76351,\n            0.76326,     0.76301,     0.76276,     0.76251,     0.76227,     0.76202,     0.76177,     0.76152,     0.76127,     0.76102,     0.76042,     0.75921,       0.758,     0.75678,     0.75557,     0.75787,     0.76021,     0.76256,     0.76491,     0.76725,      0.7696,     0.77195,     0.77268,\n            0.77262,     0.77255,     0.77249,     0.77243,     0.77236,      0.7723,     0.77223,     0.77217,      0.7721,     0.77204,     0.77197,     0.77191,     0.77184,     0.77178,     0.77171,     0.77165,     0.77158,     0.77152,     0.77146,     0.77139,     0.77133,     0.77126,      0.7712,\n            0.77113,     0.77107,       0.771,     0.77094,     0.77087,     0.77081,     0.77074,     0.77068,     0.77061,     0.77055,     0.77048,     0.77042,     0.77036,     0.77029,     0.77023,     0.77016,      0.7701,     0.77003,     0.76997,      0.7699,     0.76984,     0.76977,     0.76971,\n            0.76964,     0.76958,     0.76951,     0.76945,     0.76938,     0.76932,     0.76926,     0.76919,     0.76913,     0.76906,       0.769,     0.76893,     0.76887,      0.7688,     0.76874,     0.76867,     0.76861,     0.76854,     0.76848,     0.76841,     0.76835,     0.76829,     0.76822,\n            0.76816,     0.76809,     0.76803,     0.76796,      0.7679,     0.76783,     0.76777,      0.7677,     0.76764,     0.76757,     0.76751,     0.76744,     0.76831,     0.76921,     0.77012,     0.77102,     0.77192,     0.77282,     0.77373,     0.77463,     0.77553,     0.77643,     0.77734,\n            0.77824,     0.77914,     0.78004,     0.78095,     0.78185,     0.78275,     0.78366,     0.78456,     0.78546,     0.78807,     0.79134,     0.79462,     0.79789,     0.80116,     0.80444,     0.80535,     0.80589,     0.80643,     0.80698,     0.80752,     0.80806,      0.8086,     0.80915,\n            0.80969,     0.81023,     0.81078,     0.81132,     0.81186,      0.8124,     0.81295,     0.81349,     0.81403,     0.81457,     0.81512,     0.81566,      0.8162,     0.81675,     0.81729,     0.81783,     0.81837,     0.81892,     0.81946,        0.82,     0.82055,     0.82109,     0.82163,\n            0.82217,     0.82272,     0.82326,      0.8238,     0.82434,     0.82489,      0.8252,     0.82546,     0.82571,     0.82597,     0.82622,     0.82648,     0.82673,     0.82699,     0.82724,      0.8275,     0.82775,     0.82801,     0.82826,     0.82852,     0.82877,     0.82903,     0.82928,\n            0.82954,     0.82979,     0.83005,      0.8303,     0.83056,     0.83081,     0.83107,     0.83132,     0.83158,     0.83183,     0.83209,     0.83234,      0.8326,     0.83286,     0.83311,     0.83337,     0.83362,     0.83388,     0.83413,     0.83439,     0.83464,      0.8349,     0.83515,\n            0.83541,     0.83566,     0.83592,     0.83617,     0.83643,     0.83668,     0.83694,     0.83719,     0.83745,      0.8377,     0.83796,     0.83821,     0.83847,     0.83872,     0.83898,     0.83923,     0.83949,     0.83974,        0.84,     0.84025,     0.84051,     0.84076,     0.84102,\n            0.84127,     0.84153,     0.84178,     0.84204,     0.84229,     0.84255,      0.8428,     0.84306,     0.84331,     0.84357,     0.84382,     0.84408,     0.84433,     0.84459,     0.84484,      0.8451,     0.84535,     0.84561,     0.84587,     0.84612,      0.8472,      0.8484,      0.8496,\n             0.8508,       0.852,      0.8532,      0.8544,     0.85561,     0.85681,     0.85801,     0.85921,     0.86041,     0.86161,     0.86281,     0.86401,     0.86522,     0.86642,     0.86762,     0.86869,     0.86949,     0.87029,     0.87109,      0.8719,      0.8727,      0.8735,      0.8743,\n             0.8751,      0.8759,     0.87671,     0.87751,     0.87831,     0.87911,     0.87991,     0.88072,     0.88152,     0.88232,     0.88312,     0.88392,     0.88473,     0.88553,     0.88633,     0.88713,     0.88793,     0.88874,     0.88954,     0.89034,     0.89114,     0.89188,     0.89174,\n             0.8916,     0.89145,     0.89131,     0.89117,     0.89102,     0.89088,     0.89074,     0.89059,     0.89045,     0.89031,     0.89016,     0.89002,     0.88988,     0.88974,     0.88959,     0.88945,     0.88931,     0.88916,     0.88902,     0.88885,     0.88838,     0.88792,     0.88745,\n            0.88699,     0.88652,     0.88606,     0.88567,      0.8855,     0.88532,     0.88515,     0.88498,     0.88481,     0.88464,     0.88446,     0.88429,     0.88412,     0.88395,     0.88377,      0.8836,     0.88343,     0.88326,     0.88309,     0.88291,     0.88274,     0.88257,      0.8824,\n            0.88451,      0.8874,     0.89028,     0.89317,     0.89605,     0.89894,     0.90182,     0.90471,     0.90759,     0.90816,     0.90624,     0.90562,       0.905,     0.90438,     0.90376,     0.90312,     0.90239,     0.90165,     0.90092,     0.90018,     0.89989,     0.89975,      0.8996,\n            0.89946,     0.89931,     0.89917,     0.89903,     0.89888,     0.89874,     0.89859,     0.89845,      0.8983,     0.89816,     0.89802,     0.89787,     0.89773,     0.89758,     0.89744,      0.8973,     0.89715,     0.89701,     0.89686,     0.89672,     0.89657,     0.89646,     0.89635,\n            0.89624,     0.89613,     0.89602,     0.89591,      0.8958,     0.89569,     0.89558,     0.89547,     0.89536,     0.89525,     0.89514,     0.89503,     0.89492,     0.89481,      0.8947,     0.89459,     0.89448,     0.89437,     0.89426,     0.89415,     0.89404,     0.89393,     0.89382,\n            0.89371,      0.8936,     0.89349,     0.89339,     0.89328,     0.89317,     0.89306,     0.89295,     0.89282,     0.89261,      0.8924,     0.89219,     0.89198,     0.89177,     0.89157,     0.89136,     0.89115,     0.89094,     0.89073,     0.89052,     0.89031,     0.89011,      0.8899,\n            0.88969,     0.88948,     0.88927,     0.88906,     0.88942,      0.8926,     0.89579,     0.89897,     0.90216,     0.90535,     0.90853,     0.91172,      0.9149,     0.91809,     0.92127,     0.92171,     0.91982,     0.91941,     0.91901,     0.91861,     0.91821,     0.91781,      0.9174,\n              0.917,     0.92011,     0.95449,     0.95417,     0.95385,     0.95353,     0.95322,      0.9529,     0.95258,     0.95179,     0.95017,     0.94946,     0.94886,     0.94826,     0.94766,      0.9473,     0.94718,     0.94705,     0.94692,     0.94679,     0.94667,     0.94654,     0.94641,\n            0.94628,     0.94616,     0.94603,      0.9459,     0.94577,     0.94565,     0.94552,     0.94539,     0.94526,     0.94514,     0.94501,     0.94488,     0.94475,     0.94463,      0.9445,     0.94094,     0.93843,     0.93737,     0.93715,     0.93694,     0.93672,     0.93651,      0.9363,\n            0.93608,     0.93587,     0.93566,     0.93544,     0.93523,     0.93502,      0.9348,     0.93459,     0.93438,     0.93416,     0.93395,     0.93374,     0.93352,      0.9333,     0.93302,     0.93274,     0.93246,     0.93218,     0.93191,     0.93163,     0.93135,     0.93107,     0.93079,\n            0.93051,     0.93023,     0.92995,     0.92967,      0.9294,     0.92912,     0.92884,     0.92969,      0.9541,      0.9785,           1,           1,           1,           1,           1,           1,           1,           1,           1,           1,           1,           1,           1,\n                  1,           1,           1,           1,           1,           1,           1,           1,           1,           1,           1,           1,           1,           1,           1,           1,           1,           1,           1,           1,           1,           1,           1,\n                  1,           1,           1,           1,           1,           1,           1,           1,           1,           1,           1,           1,           1,           1,           1,           1,           1,           1,           1,           1,           1,           1,           1,\n                  1,           1,           1,           1,           1,           1,           1,           1,           1,           1,           1,           1,           1,           1,           1,           1,           1,           1,           1,           1,           1,           1,           1,\n                  1,           1,           1,           1,           1,           1,           1,           1,           1,           1,           1,           1,           1,           1,           1,           1,           1,           1,           1,           1,           1,           1,           1,\n                  1,           1,           1,           1,           1,           1,           1,           1,           1,           1,           1]]), 'Confidence', 'Precision'], [array([          0,    0.001001,    0.002002,    0.003003,    0.004004,    0.005005,    0.006006,    0.007007,    0.008008,    0.009009,     0.01001,    0.011011,    0.012012,    0.013013,    0.014014,    0.015015,    0.016016,    0.017017,    0.018018,    0.019019,     0.02002,    0.021021,    0.022022,    0.023023,\n          0.024024,    0.025025,    0.026026,    0.027027,    0.028028,    0.029029,     0.03003,    0.031031,    0.032032,    0.033033,    0.034034,    0.035035,    0.036036,    0.037037,    0.038038,    0.039039,     0.04004,    0.041041,    0.042042,    0.043043,    0.044044,    0.045045,    0.046046,    0.047047,\n          0.048048,    0.049049,     0.05005,    0.051051,    0.052052,    0.053053,    0.054054,    0.055055,    0.056056,    0.057057,    0.058058,    0.059059,     0.06006,    0.061061,    0.062062,    0.063063,    0.064064,    0.065065,    0.066066,    0.067067,    0.068068,    0.069069,     0.07007,    0.071071,\n          0.072072,    0.073073,    0.074074,    0.075075,    0.076076,    0.077077,    0.078078,    0.079079,     0.08008,    0.081081,    0.082082,    0.083083,    0.084084,    0.085085,    0.086086,    0.087087,    0.088088,    0.089089,     0.09009,    0.091091,    0.092092,    0.093093,    0.094094,    0.095095,\n          0.096096,    0.097097,    0.098098,    0.099099,      0.1001,      0.1011,      0.1021,      0.1031,      0.1041,     0.10511,     0.10611,     0.10711,     0.10811,     0.10911,     0.11011,     0.11111,     0.11211,     0.11311,     0.11411,     0.11512,     0.11612,     0.11712,     0.11812,     0.11912,\n           0.12012,     0.12112,     0.12212,     0.12312,     0.12412,     0.12513,     0.12613,     0.12713,     0.12813,     0.12913,     0.13013,     0.13113,     0.13213,     0.13313,     0.13413,     0.13514,     0.13614,     0.13714,     0.13814,     0.13914,     0.14014,     0.14114,     0.14214,     0.14314,\n           0.14414,     0.14515,     0.14615,     0.14715,     0.14815,     0.14915,     0.15015,     0.15115,     0.15215,     0.15315,     0.15415,     0.15516,     0.15616,     0.15716,     0.15816,     0.15916,     0.16016,     0.16116,     0.16216,     0.16316,     0.16416,     0.16517,     0.16617,     0.16717,\n           0.16817,     0.16917,     0.17017,     0.17117,     0.17217,     0.17317,     0.17417,     0.17518,     0.17618,     0.17718,     0.17818,     0.17918,     0.18018,     0.18118,     0.18218,     0.18318,     0.18418,     0.18519,     0.18619,     0.18719,     0.18819,     0.18919,     0.19019,     0.19119,\n           0.19219,     0.19319,     0.19419,      0.1952,      0.1962,      0.1972,      0.1982,      0.1992,      0.2002,      0.2012,      0.2022,      0.2032,      0.2042,     0.20521,     0.20621,     0.20721,     0.20821,     0.20921,     0.21021,     0.21121,     0.21221,     0.21321,     0.21421,     0.21522,\n           0.21622,     0.21722,     0.21822,     0.21922,     0.22022,     0.22122,     0.22222,     0.22322,     0.22422,     0.22523,     0.22623,     0.22723,     0.22823,     0.22923,     0.23023,     0.23123,     0.23223,     0.23323,     0.23423,     0.23524,     0.23624,     0.23724,     0.23824,     0.23924,\n           0.24024,     0.24124,     0.24224,     0.24324,     0.24424,     0.24525,     0.24625,     0.24725,     0.24825,     0.24925,     0.25025,     0.25125,     0.25225,     0.25325,     0.25425,     0.25526,     0.25626,     0.25726,     0.25826,     0.25926,     0.26026,     0.26126,     0.26226,     0.26326,\n           0.26426,     0.26527,     0.26627,     0.26727,     0.26827,     0.26927,     0.27027,     0.27127,     0.27227,     0.27327,     0.27427,     0.27528,     0.27628,     0.27728,     0.27828,     0.27928,     0.28028,     0.28128,     0.28228,     0.28328,     0.28428,     0.28529,     0.28629,     0.28729,\n           0.28829,     0.28929,     0.29029,     0.29129,     0.29229,     0.29329,     0.29429,      0.2953,      0.2963,      0.2973,      0.2983,      0.2993,      0.3003,      0.3013,      0.3023,      0.3033,      0.3043,     0.30531,     0.30631,     0.30731,     0.30831,     0.30931,     0.31031,     0.31131,\n           0.31231,     0.31331,     0.31431,     0.31532,     0.31632,     0.31732,     0.31832,     0.31932,     0.32032,     0.32132,     0.32232,     0.32332,     0.32432,     0.32533,     0.32633,     0.32733,     0.32833,     0.32933,     0.33033,     0.33133,     0.33233,     0.33333,     0.33433,     0.33534,\n           0.33634,     0.33734,     0.33834,     0.33934,     0.34034,     0.34134,     0.34234,     0.34334,     0.34434,     0.34535,     0.34635,     0.34735,     0.34835,     0.34935,     0.35035,     0.35135,     0.35235,     0.35335,     0.35435,     0.35536,     0.35636,     0.35736,     0.35836,     0.35936,\n           0.36036,     0.36136,     0.36236,     0.36336,     0.36436,     0.36537,     0.36637,     0.36737,     0.36837,     0.36937,     0.37037,     0.37137,     0.37237,     0.37337,     0.37437,     0.37538,     0.37638,     0.37738,     0.37838,     0.37938,     0.38038,     0.38138,     0.38238,     0.38338,\n           0.38438,     0.38539,     0.38639,     0.38739,     0.38839,     0.38939,     0.39039,     0.39139,     0.39239,     0.39339,     0.39439,      0.3954,      0.3964,      0.3974,      0.3984,      0.3994,      0.4004,      0.4014,      0.4024,      0.4034,      0.4044,     0.40541,     0.40641,     0.40741,\n           0.40841,     0.40941,     0.41041,     0.41141,     0.41241,     0.41341,     0.41441,     0.41542,     0.41642,     0.41742,     0.41842,     0.41942,     0.42042,     0.42142,     0.42242,     0.42342,     0.42442,     0.42543,     0.42643,     0.42743,     0.42843,     0.42943,     0.43043,     0.43143,\n           0.43243,     0.43343,     0.43443,     0.43544,     0.43644,     0.43744,     0.43844,     0.43944,     0.44044,     0.44144,     0.44244,     0.44344,     0.44444,     0.44545,     0.44645,     0.44745,     0.44845,     0.44945,     0.45045,     0.45145,     0.45245,     0.45345,     0.45445,     0.45546,\n           0.45646,     0.45746,     0.45846,     0.45946,     0.46046,     0.46146,     0.46246,     0.46346,     0.46446,     0.46547,     0.46647,     0.46747,     0.46847,     0.46947,     0.47047,     0.47147,     0.47247,     0.47347,     0.47447,     0.47548,     0.47648,     0.47748,     0.47848,     0.47948,\n           0.48048,     0.48148,     0.48248,     0.48348,     0.48448,     0.48549,     0.48649,     0.48749,     0.48849,     0.48949,     0.49049,     0.49149,     0.49249,     0.49349,     0.49449,      0.4955,      0.4965,      0.4975,      0.4985,      0.4995,      0.5005,      0.5015,      0.5025,      0.5035,\n            0.5045,     0.50551,     0.50651,     0.50751,     0.50851,     0.50951,     0.51051,     0.51151,     0.51251,     0.51351,     0.51451,     0.51552,     0.51652,     0.51752,     0.51852,     0.51952,     0.52052,     0.52152,     0.52252,     0.52352,     0.52452,     0.52553,     0.52653,     0.52753,\n           0.52853,     0.52953,     0.53053,     0.53153,     0.53253,     0.53353,     0.53453,     0.53554,     0.53654,     0.53754,     0.53854,     0.53954,     0.54054,     0.54154,     0.54254,     0.54354,     0.54454,     0.54555,     0.54655,     0.54755,     0.54855,     0.54955,     0.55055,     0.55155,\n           0.55255,     0.55355,     0.55455,     0.55556,     0.55656,     0.55756,     0.55856,     0.55956,     0.56056,     0.56156,     0.56256,     0.56356,     0.56456,     0.56557,     0.56657,     0.56757,     0.56857,     0.56957,     0.57057,     0.57157,     0.57257,     0.57357,     0.57457,     0.57558,\n           0.57658,     0.57758,     0.57858,     0.57958,     0.58058,     0.58158,     0.58258,     0.58358,     0.58458,     0.58559,     0.58659,     0.58759,     0.58859,     0.58959,     0.59059,     0.59159,     0.59259,     0.59359,     0.59459,      0.5956,      0.5966,      0.5976,      0.5986,      0.5996,\n            0.6006,      0.6016,      0.6026,      0.6036,      0.6046,     0.60561,     0.60661,     0.60761,     0.60861,     0.60961,     0.61061,     0.61161,     0.61261,     0.61361,     0.61461,     0.61562,     0.61662,     0.61762,     0.61862,     0.61962,     0.62062,     0.62162,     0.62262,     0.62362,\n           0.62462,     0.62563,     0.62663,     0.62763,     0.62863,     0.62963,     0.63063,     0.63163,     0.63263,     0.63363,     0.63463,     0.63564,     0.63664,     0.63764,     0.63864,     0.63964,     0.64064,     0.64164,     0.64264,     0.64364,     0.64464,     0.64565,     0.64665,     0.64765,\n           0.64865,     0.64965,     0.65065,     0.65165,     0.65265,     0.65365,     0.65465,     0.65566,     0.65666,     0.65766,     0.65866,     0.65966,     0.66066,     0.66166,     0.66266,     0.66366,     0.66466,     0.66567,     0.66667,     0.66767,     0.66867,     0.66967,     0.67067,     0.67167,\n           0.67267,     0.67367,     0.67467,     0.67568,     0.67668,     0.67768,     0.67868,     0.67968,     0.68068,     0.68168,     0.68268,     0.68368,     0.68468,     0.68569,     0.68669,     0.68769,     0.68869,     0.68969,     0.69069,     0.69169,     0.69269,     0.69369,     0.69469,      0.6957,\n            0.6967,      0.6977,      0.6987,      0.6997,      0.7007,      0.7017,      0.7027,      0.7037,      0.7047,     0.70571,     0.70671,     0.70771,     0.70871,     0.70971,     0.71071,     0.71171,     0.71271,     0.71371,     0.71471,     0.71572,     0.71672,     0.71772,     0.71872,     0.71972,\n           0.72072,     0.72172,     0.72272,     0.72372,     0.72472,     0.72573,     0.72673,     0.72773,     0.72873,     0.72973,     0.73073,     0.73173,     0.73273,     0.73373,     0.73473,     0.73574,     0.73674,     0.73774,     0.73874,     0.73974,     0.74074,     0.74174,     0.74274,     0.74374,\n           0.74474,     0.74575,     0.74675,     0.74775,     0.74875,     0.74975,     0.75075,     0.75175,     0.75275,     0.75375,     0.75475,     0.75576,     0.75676,     0.75776,     0.75876,     0.75976,     0.76076,     0.76176,     0.76276,     0.76376,     0.76476,     0.76577,     0.76677,     0.76777,\n           0.76877,     0.76977,     0.77077,     0.77177,     0.77277,     0.77377,     0.77477,     0.77578,     0.77678,     0.77778,     0.77878,     0.77978,     0.78078,     0.78178,     0.78278,     0.78378,     0.78478,     0.78579,     0.78679,     0.78779,     0.78879,     0.78979,     0.79079,     0.79179,\n           0.79279,     0.79379,     0.79479,      0.7958,      0.7968,      0.7978,      0.7988,      0.7998,      0.8008,      0.8018,      0.8028,      0.8038,      0.8048,     0.80581,     0.80681,     0.80781,     0.80881,     0.80981,     0.81081,     0.81181,     0.81281,     0.81381,     0.81481,     0.81582,\n           0.81682,     0.81782,     0.81882,     0.81982,     0.82082,     0.82182,     0.82282,     0.82382,     0.82482,     0.82583,     0.82683,     0.82783,     0.82883,     0.82983,     0.83083,     0.83183,     0.83283,     0.83383,     0.83483,     0.83584,     0.83684,     0.83784,     0.83884,     0.83984,\n           0.84084,     0.84184,     0.84284,     0.84384,     0.84484,     0.84585,     0.84685,     0.84785,     0.84885,     0.84985,     0.85085,     0.85185,     0.85285,     0.85385,     0.85485,     0.85586,     0.85686,     0.85786,     0.85886,     0.85986,     0.86086,     0.86186,     0.86286,     0.86386,\n           0.86486,     0.86587,     0.86687,     0.86787,     0.86887,     0.86987,     0.87087,     0.87187,     0.87287,     0.87387,     0.87487,     0.87588,     0.87688,     0.87788,     0.87888,     0.87988,     0.88088,     0.88188,     0.88288,     0.88388,     0.88488,     0.88589,     0.88689,     0.88789,\n           0.88889,     0.88989,     0.89089,     0.89189,     0.89289,     0.89389,     0.89489,      0.8959,      0.8969,      0.8979,      0.8989,      0.8999,      0.9009,      0.9019,      0.9029,      0.9039,      0.9049,     0.90591,     0.90691,     0.90791,     0.90891,     0.90991,     0.91091,     0.91191,\n           0.91291,     0.91391,     0.91491,     0.91592,     0.91692,     0.91792,     0.91892,     0.91992,     0.92092,     0.92192,     0.92292,     0.92392,     0.92492,     0.92593,     0.92693,     0.92793,     0.92893,     0.92993,     0.93093,     0.93193,     0.93293,     0.93393,     0.93493,     0.93594,\n           0.93694,     0.93794,     0.93894,     0.93994,     0.94094,     0.94194,     0.94294,     0.94394,     0.94494,     0.94595,     0.94695,     0.94795,     0.94895,     0.94995,     0.95095,     0.95195,     0.95295,     0.95395,     0.95495,     0.95596,     0.95696,     0.95796,     0.95896,     0.95996,\n           0.96096,     0.96196,     0.96296,     0.96396,     0.96496,     0.96597,     0.96697,     0.96797,     0.96897,     0.96997,     0.97097,     0.97197,     0.97297,     0.97397,     0.97497,     0.97598,     0.97698,     0.97798,     0.97898,     0.97998,     0.98098,     0.98198,     0.98298,     0.98398,\n           0.98498,     0.98599,     0.98699,     0.98799,     0.98899,     0.98999,     0.99099,     0.99199,     0.99299,     0.99399,     0.99499,       0.996,       0.997,       0.998,       0.999,           1]), array([[    0.98039,     0.98039,     0.98039,     0.98039,     0.98039,     0.96078,     0.94118,     0.94118,     0.94118,     0.94118,     0.92157,     0.92157,     0.92157,     0.92157,     0.92157,     0.92157,     0.92157,     0.92157,     0.92157,     0.92157,     0.92157,     0.92157,     0.92157,\n            0.92157,     0.92157,     0.92157,     0.92157,     0.92157,     0.92157,     0.92157,     0.92157,     0.92157,     0.92157,     0.92157,     0.92157,     0.92157,     0.92157,     0.92157,     0.92157,     0.92157,     0.92157,     0.92157,     0.92157,     0.92157,     0.92157,     0.92157,\n            0.91647,     0.88235,     0.86275,     0.86275,     0.86275,     0.86275,     0.86275,     0.86275,     0.86275,     0.86275,     0.86275,     0.86275,     0.86275,     0.86275,     0.86275,     0.86275,     0.86275,     0.86275,     0.86275,     0.86275,     0.86275,     0.86275,     0.86275,\n            0.86275,     0.86275,     0.86275,     0.86275,     0.86275,     0.86275,     0.86275,     0.86275,     0.86275,     0.86275,     0.86275,     0.86275,     0.86275,     0.86275,     0.86275,     0.86275,     0.86275,     0.86275,     0.86275,     0.86275,     0.86275,     0.86275,     0.86275,\n            0.86008,     0.85638,     0.85268,     0.84899,     0.84529,     0.84314,     0.84314,     0.84314,     0.84314,     0.84314,     0.84314,     0.84314,     0.84314,     0.84097,     0.83875,     0.83653,     0.83431,      0.8321,     0.82988,     0.82766,     0.82544,     0.82353,     0.82353,\n            0.82353,     0.82353,     0.82353,     0.82353,     0.82353,     0.82353,     0.82353,     0.82353,     0.82353,     0.82353,     0.82353,     0.82353,     0.82353,     0.82353,     0.82353,     0.82353,     0.82353,     0.82353,     0.82353,     0.82353,     0.82353,     0.82353,     0.82353,\n            0.82353,     0.82353,     0.82353,     0.82353,     0.82353,     0.82353,     0.82353,     0.82353,     0.82353,     0.82353,     0.82353,     0.82353,     0.82353,     0.82353,     0.82353,     0.82353,     0.82353,     0.82353,     0.82353,     0.82353,     0.82353,     0.82353,     0.82353,\n            0.82353,     0.82353,     0.82353,     0.82353,     0.82353,     0.82353,     0.82353,     0.82353,     0.82353,     0.82353,     0.82353,     0.82353,     0.82353,     0.82353,     0.82353,     0.82353,     0.82353,     0.80392,     0.80392,     0.80392,     0.80392,     0.80392,     0.80392,\n            0.80392,     0.80392,     0.80392,     0.80392,     0.80392,     0.80392,     0.80392,     0.80392,     0.80392,     0.80392,     0.80392,     0.80392,     0.80392,     0.80392,     0.80392,     0.80392,     0.80392,     0.80392,     0.80392,     0.80392,     0.80392,     0.80392,     0.80392,\n            0.80392,     0.80392,     0.80392,     0.80392,     0.80392,     0.80392,     0.80392,     0.80392,     0.80392,     0.80392,     0.80392,     0.80392,     0.80392,     0.80392,     0.80392,     0.80392,     0.80392,     0.80392,     0.80392,     0.80392,     0.80392,     0.80392,     0.80392,\n            0.80206,     0.79703,     0.79201,     0.78698,     0.78431,     0.78431,     0.78431,     0.78431,     0.78431,     0.78431,     0.78431,     0.78431,     0.78431,     0.78431,     0.78431,     0.78431,     0.78431,     0.78431,     0.78431,     0.78431,     0.78431,     0.78431,     0.78431,\n            0.78431,     0.78431,     0.78431,     0.78431,     0.78431,     0.78431,     0.78431,     0.78431,     0.78431,     0.78431,     0.78431,     0.78431,     0.78431,     0.78431,     0.78431,     0.78431,     0.78431,     0.78431,     0.78431,     0.78431,     0.78431,     0.78431,     0.78431,\n            0.78431,     0.78431,     0.78431,     0.78431,     0.78431,     0.78431,     0.78431,     0.78431,     0.78431,     0.78431,     0.78431,     0.78431,     0.78431,     0.78431,     0.78431,     0.78431,     0.78431,     0.78431,     0.78431,     0.78431,     0.78431,     0.78431,     0.78431,\n            0.78431,     0.78431,     0.78431,     0.78431,     0.78431,     0.78431,     0.78431,     0.78431,     0.77753,     0.76428,     0.76216,     0.76005,     0.75793,     0.75581,      0.7537,     0.75158,     0.74947,     0.74735,     0.74524,      0.7404,     0.73538,     0.73035,     0.72497,\n            0.70889,     0.70588,     0.70588,     0.70588,     0.70588,     0.70588,     0.70588,     0.70588,     0.70588,     0.70588,     0.70588,     0.70588,     0.70588,     0.70506,      0.7041,     0.70314,     0.70219,     0.70123,     0.70027,     0.69932,     0.69836,      0.6974,     0.69644,\n            0.69549,     0.69453,     0.69357,     0.69262,     0.69166,      0.6907,     0.68974,     0.68879,     0.68783,     0.68687,      0.6846,     0.68014,     0.67567,      0.6712,     0.66674,     0.66667,     0.66667,     0.66667,     0.66667,     0.66667,     0.66667,     0.66667,     0.66651,\n            0.66627,     0.66603,     0.66579,     0.66555,     0.66531,     0.66507,     0.66483,     0.66459,     0.66435,     0.66411,     0.66387,     0.66363,     0.66339,     0.66315,     0.66291,     0.66267,     0.66243,     0.66219,     0.66195,     0.66171,     0.66147,     0.66123,     0.66099,\n            0.66075,     0.66051,     0.66027,     0.66003,     0.65979,     0.65955,     0.65931,     0.65907,     0.65883,     0.65859,     0.65835,     0.65811,     0.65787,     0.65763,     0.65739,     0.65715,     0.65691,     0.65667,     0.65643,     0.65619,     0.65595,     0.65571,     0.65547,\n            0.65523,     0.65499,     0.65475,     0.65451,     0.65427,     0.65403,     0.65379,     0.65355,     0.65331,     0.65307,     0.65283,     0.65259,     0.65235,     0.65211,     0.65187,     0.65163,     0.65139,     0.65115,     0.65091,     0.65067,     0.65043,     0.65019,     0.64995,\n            0.64971,     0.64947,     0.64923,     0.64899,     0.64875,     0.64851,     0.64827,     0.64803,     0.64779,     0.64755,     0.64731,     0.64707,     0.64706,     0.64706,     0.64706,     0.64706,     0.64706,     0.64706,     0.64706,     0.64706,     0.64706,     0.64706,     0.64706,\n            0.64706,     0.64706,     0.64706,     0.64706,     0.64706,     0.64706,     0.64706,     0.64706,     0.64706,     0.64706,     0.64706,     0.64706,     0.64706,     0.64706,     0.64706,     0.64706,     0.64706,     0.64706,     0.64706,     0.64706,     0.64706,     0.64706,     0.64706,\n            0.64706,     0.64706,     0.64706,     0.64706,     0.64706,     0.64706,     0.64706,     0.64706,     0.64706,     0.64706,     0.64706,     0.64706,     0.64706,     0.64706,     0.64706,     0.64706,     0.64706,     0.64706,     0.64706,     0.64706,     0.64706,     0.64706,     0.64706,\n            0.64706,     0.64706,     0.64706,     0.64706,     0.64706,     0.64706,     0.64706,     0.64706,     0.64706,     0.64706,     0.64706,     0.64706,     0.64706,     0.64706,     0.64706,     0.64706,     0.64706,     0.64706,     0.64706,     0.64706,     0.64706,     0.64706,     0.64706,\n            0.64706,     0.64706,     0.64706,     0.64706,     0.64706,     0.64706,     0.64706,     0.64706,     0.64706,     0.64706,     0.64706,     0.64706,     0.64706,     0.64706,     0.64706,     0.64706,     0.64706,     0.64706,     0.64706,     0.64706,     0.64706,     0.64706,     0.64706,\n            0.64706,     0.64706,     0.64706,     0.64706,     0.64706,     0.64706,     0.64706,     0.64706,     0.64706,     0.64706,     0.64706,     0.64706,     0.64706,     0.64706,     0.64706,     0.64706,     0.64706,     0.64706,     0.64706,     0.64706,     0.64706,     0.64706,     0.64706,\n            0.64706,     0.64706,     0.64706,     0.64706,     0.64706,     0.64706,     0.64706,     0.64706,     0.64706,     0.64706,     0.64706,     0.64706,     0.64706,     0.64706,     0.64706,     0.64706,     0.64706,     0.64706,     0.64706,     0.64706,     0.64706,     0.64706,     0.64706,\n            0.64706,     0.64706,     0.64706,     0.64706,     0.64706,     0.64706,     0.64706,     0.64706,     0.64706,     0.64706,     0.64706,     0.64706,     0.64706,     0.64706,     0.64706,     0.64706,     0.64706,     0.64706,     0.64706,     0.64706,     0.64706,     0.64706,     0.64706,\n            0.64706,     0.64706,     0.64706,     0.64706,     0.64706,     0.64706,     0.64706,     0.64706,     0.64706,     0.64706,     0.64706,     0.64706,     0.64706,     0.64706,     0.64706,     0.64706,     0.64706,     0.64706,     0.64706,     0.64706,     0.64706,       0.647,     0.64606,\n            0.64513,     0.64419,     0.64326,     0.64232,     0.64139,     0.64045,     0.63952,     0.63859,     0.63765,     0.63672,     0.63578,     0.63485,     0.63391,     0.63298,     0.63204,     0.63111,     0.63017,     0.62924,      0.6283,     0.62719,     0.62432,     0.62145,     0.61858,\n            0.61571,     0.61284,     0.60997,     0.60758,     0.60658,     0.60557,     0.60457,     0.60356,     0.60256,     0.60155,     0.60055,     0.59954,     0.59854,     0.59753,     0.59653,     0.59552,     0.59452,     0.59351,     0.59251,      0.5915,      0.5905,     0.58949,     0.58849,\n            0.58824,     0.58824,     0.58824,     0.58824,     0.58824,     0.58824,     0.58824,     0.58824,     0.58824,      0.5818,     0.56856,     0.56454,     0.56052,      0.5565,     0.55248,      0.5484,     0.54393,     0.53947,       0.535,     0.53053,      0.5288,     0.52798,     0.52716,\n            0.52634,     0.52552,      0.5247,     0.52388,     0.52305,     0.52223,     0.52141,     0.52059,     0.51977,     0.51895,     0.51813,     0.51731,     0.51649,     0.51567,     0.51485,     0.51403,     0.51321,     0.51239,     0.51157,     0.51075,     0.50993,     0.50931,     0.50873,\n            0.50815,     0.50756,     0.50698,      0.5064,     0.50581,     0.50523,     0.50465,     0.50407,     0.50348,      0.5029,     0.50232,     0.50174,     0.50115,     0.50057,     0.49999,     0.49941,     0.49882,     0.49824,     0.49766,     0.49708,     0.49649,     0.49591,     0.49533,\n            0.49475,     0.49416,     0.49358,       0.493,     0.49242,     0.49183,     0.49125,     0.49067,        0.49,     0.48897,     0.48794,     0.48691,     0.48588,     0.48485,     0.48382,     0.48279,     0.48176,     0.48072,     0.47969,     0.47866,     0.47763,      0.4766,     0.47557,\n            0.47454,     0.47351,     0.47248,     0.47145,     0.47059,     0.47059,     0.47059,     0.47059,     0.47059,     0.47059,     0.47059,     0.47059,     0.47059,     0.47059,     0.47059,     0.46186,      0.4499,     0.44753,     0.44517,      0.4428,     0.44044,     0.43807,     0.43571,\n            0.43334,     0.41176,     0.41122,     0.40835,     0.40548,      0.4026,     0.39973,     0.39686,     0.39399,     0.38732,     0.37392,     0.36854,     0.36407,     0.35961,     0.35514,     0.35251,     0.35165,      0.3508,     0.34994,     0.34909,     0.34823,     0.34738,     0.34652,\n            0.34566,     0.34481,     0.34395,      0.3431,     0.34224,     0.34139,     0.34053,     0.33968,     0.33882,     0.33797,     0.33711,     0.33626,      0.3354,     0.33455,     0.33369,     0.31247,     0.29907,     0.29348,     0.29248,     0.29147,     0.29047,     0.28946,     0.28846,\n            0.28745,     0.28645,     0.28544,     0.28444,     0.28343,     0.28243,     0.28143,     0.28042,     0.27942,     0.27841,     0.27741,      0.2764,      0.2754,     0.27437,     0.27323,     0.27208,     0.27093,     0.26978,     0.26863,     0.26748,     0.26633,     0.26519,     0.26404,\n            0.26289,     0.26174,     0.26059,     0.25944,     0.25829,     0.25715,       0.256,      0.2549,      0.2549,      0.2549,     0.25447,     0.25081,     0.24716,      0.2435,     0.23985,      0.2362,     0.23313,     0.23026,     0.22739,     0.22452,     0.22165,     0.21877,      0.2159,\n            0.21459,     0.21341,     0.21223,     0.21105,     0.20986,     0.20868,      0.2075,     0.20632,     0.20514,     0.20395,     0.20277,     0.20159,     0.20041,     0.19922,     0.19804,     0.19686,     0.19494,     0.19159,     0.18824,     0.18489,     0.18154,     0.17819,     0.17403,\n              0.169,     0.16398,     0.15896,     0.15393,     0.14891,     0.14388,     0.13886,     0.13497,     0.13162,     0.12827,     0.12492,     0.12157,     0.11822,     0.11543,     0.11275,     0.11007,     0.10739,     0.10471,     0.10203,     0.09935,    0.096173,    0.092519,    0.088864,\n            0.08521,    0.081556,    0.076488,    0.063089,    0.056997,    0.054317,    0.051637,    0.048957,    0.046278,    0.043598,    0.040918,    0.038692,    0.037256,    0.035821,    0.034385,     0.03295,    0.031514,    0.030078,    0.028643,    0.027207,    0.025772,    0.024336,      0.0229,\n           0.021465,    0.020029,           0,           0,           0,           0,           0,           0,           0,           0,           0,           0,           0,           0,           0,           0,           0,           0,           0,           0,           0,           0,           0,\n                  0,           0,           0,           0,           0,           0,           0,           0,           0,           0,           0]]), 'Confidence', 'Recall']]\nfitness: np.float64(0.632782318507102)\nkeys: ['metrics/precision(B)', 'metrics/recall(B)', 'metrics/mAP50(B)', 'metrics/mAP50-95(B)']\nmaps: array([    0.61329])\nnames: {0: 'door'}\nplot: True\nresults_dict: {'metrics/precision(B)': np.float64(0.7135587670257678), 'metrics/recall(B)': np.float64(0.7843137254901961), 'metrics/mAP50(B)': np.float64(0.808194861598279), 'metrics/mAP50-95(B)': np.float64(0.6132920359414156), 'fitness': np.float64(0.632782318507102)}\nsave_dir: WindowsPath('runs/detect/train3')\nspeed: {'preprocess': 0.9766568740208943, 'inference': 14.934226870536804, 'loss': 0.0, 'postprocess': 3.0881017446517944}\ntask: 'detect'"
     },
     "execution_count": 2,
     "metadata": {},
     "output_type": "execute_result"
    }
   ]
  },
  {
   "cell_type": "code",
   "source": [
    "model = YOLO(\"runs/detect/train2/weights/best.pt\")  # load model (from pretrained)"
   ],
   "metadata": {
    "trusted": true
   },
   "execution_count": null,
   "outputs": []
  },
  {
   "cell_type": "code",
   "source": [
    "res=model.predict(\"/kaggle/input/doors-detection/val/images/IMG_20190624_120100.jpg\",save=True,conf=0.3)"
   ],
   "metadata": {
    "execution": {
     "iopub.status.busy": "2023-08-27T14:57:41.368490Z",
     "iopub.execute_input": "2023-08-27T14:57:41.368869Z",
     "iopub.status.idle": "2023-08-27T14:57:41.763483Z",
     "shell.execute_reply.started": "2023-08-27T14:57:41.368837Z",
     "shell.execute_reply": "2023-08-27T14:57:41.762364Z"
    },
    "trusted": true
   },
   "execution_count": null,
   "outputs": []
  },
  {
   "cell_type": "code",
   "source": [
    "import matplotlib.pyplot as plt\n",
    "import matplotlib.image as mpimg\n",
    "# Load your images\n",
    "image1 = mpimg.imread('/kaggle/input/doors-detection/val/images/IMG_20190624_120100.jpg')\n",
    "image2 = mpimg.imread('/kaggle/working/runs/detect/predict/IMG_20190624_120100.jpg')\n",
    "\n",
    "# Plotting the images side by side\n",
    "plt.figure(figsize=(20, 20))\n",
    "plt.subplot(1, 2, 1)\n",
    "plt.imshow(image1)\n",
    "plt.title('src')\n",
    "\n",
    "plt.subplot(1, 2, 2)\n",
    "plt.imshow(image2)\n",
    "plt.title('pred')\n",
    "\n",
    "plt.tight_layout()\n",
    "plt.show()"
   ],
   "metadata": {
    "execution": {
     "iopub.status.busy": "2023-08-27T14:58:42.573268Z",
     "iopub.execute_input": "2023-08-27T14:58:42.573669Z",
     "iopub.status.idle": "2023-08-27T14:58:44.660144Z",
     "shell.execute_reply.started": "2023-08-27T14:58:42.573636Z",
     "shell.execute_reply": "2023-08-27T14:58:44.658816Z"
    },
    "trusted": true
   },
   "execution_count": null,
   "outputs": []
  },
  {
   "cell_type": "code",
   "source": [
    "import matplotlib.pyplot as plt\n",
    "import matplotlib.image as mpimg\n",
    "image1 = mpimg.imread('/kaggle/working/runs/detect/train2/results.png')\n",
    "plt.figure(figsize=(20, 20))\n",
    "plt.imshow(image1)\n",
    "\n"
   ],
   "metadata": {
    "execution": {
     "iopub.status.busy": "2023-08-27T15:01:33.208801Z",
     "iopub.execute_input": "2023-08-27T15:01:33.209200Z",
     "iopub.status.idle": "2023-08-27T15:01:34.409371Z",
     "shell.execute_reply.started": "2023-08-27T15:01:33.209168Z",
     "shell.execute_reply": "2023-08-27T15:01:34.408482Z"
    },
    "trusted": true
   },
   "execution_count": null,
   "outputs": []
  }
 ]
}
